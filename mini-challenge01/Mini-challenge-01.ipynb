{
 "cells": [
  {
   "cell_type": "markdown",
   "metadata": {},
   "source": [
    "### Assignment Mini-Challenge 01"
   ]
  },
  {
   "cell_type": "markdown",
   "metadata": {},
   "source": [
    "> To use [QuickDraw dataset](https://quickdraw.withgoogle.com) to do image classification with CNN"
   ]
  },
  {
   "cell_type": "markdown",
   "metadata": {},
   "source": [
    "Below is the implementation with Keras using TF "
   ]
  },
  {
   "cell_type": "code",
   "execution_count": 1,
   "metadata": {
    "collapsed": false
   },
   "outputs": [
    {
     "name": "stderr",
     "output_type": "stream",
     "text": [
      "Using TensorFlow backend.\n"
     ]
    }
   ],
   "source": [
    "import numpy as np\n",
    "from keras.utils import to_categorical\n",
    "from keras.optimizers import Adam\n",
    "from keras.utils import to_categorical\n",
    "from keras.callbacks import LearningRateScheduler\n",
    "import keras.backend as K\n",
    "import tensorflow as tf\n",
    "import keras\n",
    "from keras.models import Sequential, Model\n",
    "from keras.layers import Dense, Dropout, Flatten,Input, BatchNormalization\n",
    "from keras.layers import Conv2D, MaxPooling2D\n",
    "from keras import backend as K"
   ]
  },
  {
   "cell_type": "code",
   "execution_count": 2,
   "metadata": {
    "collapsed": false
   },
   "outputs": [
    {
     "name": "stdout",
     "output_type": "stream",
     "text": [
      "2.0.8\n",
      "1.5.0-dev20171016\n"
     ]
    }
   ],
   "source": [
    "print(keras.__version__)\n",
    "print(tf.__version__)"
   ]
  },
  {
   "cell_type": "markdown",
   "metadata": {},
   "source": [
    "we use **40 classes** and **10K dataset**"
   ]
  },
  {
   "cell_type": "code",
   "execution_count": 3,
   "metadata": {
    "collapsed": true
   },
   "outputs": [],
   "source": [
    "classes40 = ['airplane','alarm clock','ambulance','angel','ant','anvil','apple','axe','banana','bandage','barn','baseball bat','baseball',\n",
    "           'basket','basketball','bathtub','beach','bear','beard','bed','bee','belt','bicycle','binoculars','birthday cake','blueberry',\n",
    "           'book','boomerang','bottlecap','bowtie','bracelet','brain','bread','broom','bulldozer','bus','bus','butterfly','cactus','cake']\n",
    "num_classes = len(classes40)"
   ]
  },
  {
   "cell_type": "code",
   "execution_count": 4,
   "metadata": {
    "collapsed": true
   },
   "outputs": [],
   "source": [
    "num_examples_per_class = 10000 # 10k dataset"
   ]
  },
  {
   "cell_type": "code",
   "execution_count": 5,
   "metadata": {
    "collapsed": true
   },
   "outputs": [],
   "source": [
    "x_data = np.load('data/x_data_40_classes_10k.npy')"
   ]
  },
  {
   "cell_type": "code",
   "execution_count": 6,
   "metadata": {
    "collapsed": true
   },
   "outputs": [],
   "source": [
    "labels = [np.full((num_examples_per_class,), classes40.index(qdraw)) for qdraw in classes40]\n",
    "\n",
    "y_data = np.concatenate(labels,axis=0)"
   ]
  },
  {
   "cell_type": "code",
   "execution_count": 7,
   "metadata": {
    "collapsed": true
   },
   "outputs": [],
   "source": [
    "def unison_shuffled_copies(a, b):\n",
    "    assert len(a) == len(b)\n",
    "    p = np.random.permutation(len(a))\n",
    "    return a[p], b[p]"
   ]
  },
  {
   "cell_type": "markdown",
   "metadata": {},
   "source": [
    "we shuffle the train and validation data "
   ]
  },
  {
   "cell_type": "code",
   "execution_count": 8,
   "metadata": {
    "collapsed": false
   },
   "outputs": [],
   "source": [
    "x_data, y_data = unison_shuffled_copies(x_data, y_data)"
   ]
  },
  {
   "cell_type": "code",
   "execution_count": 9,
   "metadata": {
    "collapsed": false
   },
   "outputs": [],
   "source": [
    "img_rows = 28\n",
    "img_cols = 28\n",
    "\n",
    "total_size = x_data.shape[0]\n",
    "\n",
    "num_pred = int(0.1 * total_size)              # set 10 % for testing \n",
    "num_validate = int(0.3 * total_size)          # set 30 % for validation\n",
    "num_train = int(0.6 * total_size)             # set 60 % for training\n",
    "\n",
    "x_train = x_data[0:num_train]\n",
    "y_train = y_data[0:num_train]\n",
    "\n",
    "x_test = x_data[num_train:(num_train+num_validate)]\n",
    "y_test = y_data[num_train:(num_train+num_validate)]\n",
    "\n",
    "x_pred = x_data[(num_train+num_validate):]\n",
    "y_pred = y_data[(num_train+num_validate):]\n",
    "\n",
    "x_train = x_train.reshape(x_train.shape[0], img_rows, img_cols, 1)\n",
    "x_test = x_test.reshape(x_test.shape[0], img_rows, img_cols, 1)\n",
    "x_pred = x_pred.reshape(x_pred.shape[0], img_rows, img_cols, 1)\n",
    "\n",
    "input_shape = (img_rows, img_cols, 1)"
   ]
  },
  {
   "cell_type": "code",
   "execution_count": 10,
   "metadata": {
    "collapsed": false
   },
   "outputs": [
    {
     "name": "stdout",
     "output_type": "stream",
     "text": [
      "(240000, 28, 28, 1)\n",
      "240000 train samples\n",
      "120000 test samples\n",
      "40000 pred samples\n"
     ]
    }
   ],
   "source": [
    "x_train = x_train.astype('float32')\n",
    "x_test = x_test.astype('float32')\n",
    "x_pred = x_pred.astype('float32')\n",
    "\n",
    "# normalize the image to 0 to 1\n",
    "x_train /= 255   \n",
    "x_test /= 255\n",
    "x_pred /= 255\n",
    "\n",
    "print(x_train.shape)\n",
    "print(x_train.shape[0], 'train samples')\n",
    "print(x_test.shape[0], 'test samples')\n",
    "print(x_pred.shape[0], 'pred samples')"
   ]
  },
  {
   "cell_type": "markdown",
   "metadata": {},
   "source": [
    "Hot encoding for the labels"
   ]
  },
  {
   "cell_type": "code",
   "execution_count": 11,
   "metadata": {
    "collapsed": true
   },
   "outputs": [],
   "source": [
    "y_train = keras.utils.to_categorical(y_train, num_classes)\n",
    "y_test = keras.utils.to_categorical(y_test, num_classes)"
   ]
  },
  {
   "cell_type": "code",
   "execution_count": 36,
   "metadata": {
    "collapsed": false
   },
   "outputs": [
    {
     "name": "stdout",
     "output_type": "stream",
     "text": [
      "_________________________________________________________________\n",
      "Layer (type)                 Output Shape              Param #   \n",
      "=================================================================\n",
      "input_2 (InputLayer)         (None, 28, 28, 1)         0         \n",
      "_________________________________________________________________\n",
      "Conv_01 (Conv2D)             (None, 26, 26, 32)        320       \n",
      "_________________________________________________________________\n",
      "Conv_02 (Conv2D)             (None, 24, 24, 64)        18496     \n",
      "_________________________________________________________________\n",
      "MaxPool_01 (MaxPooling2D)    (None, 12, 12, 64)        0         \n",
      "_________________________________________________________________\n",
      "Dropout_01 (Dropout)         (None, 12, 12, 64)        0         \n",
      "_________________________________________________________________\n",
      "Flatten_01 (Flatten)         (None, 9216)              0         \n",
      "_________________________________________________________________\n",
      "Dense_01 (Dense)             (None, 128)               1179776   \n",
      "_________________________________________________________________\n",
      "batch_normalization_2 (Batch (None, 128)               512       \n",
      "_________________________________________________________________\n",
      "Dropout_02 (Dropout)         (None, 128)               0         \n",
      "_________________________________________________________________\n",
      "Dense_02 (Dense)             (None, 40)                5160      \n",
      "=================================================================\n",
      "Total params: 1,204,264\n",
      "Trainable params: 1,204,008\n",
      "Non-trainable params: 256\n",
      "_________________________________________________________________\n",
      "None\n"
     ]
    }
   ],
   "source": [
    "Inp = Input(input_shape) # 8000, 28, 28, 1\n",
    "x = Conv2D(32, kernel_size=(3, 3), activation='relu', name='Conv_01')(Inp)\n",
    "x = Conv2D(64, (3, 3), activation='relu', name='Conv_02')(x)\n",
    "x = MaxPooling2D(pool_size=(2, 2), name = 'MaxPool_01')(x)\n",
    "x = Dropout(0.2, name='Dropout_01')(x)\n",
    "x = Flatten(name='Flatten_01')(x)\n",
    "x = Dense(128, activation='relu', name='Dense_01')(x)\n",
    "x = BatchNormalization()(x)\n",
    "x = Dropout(0.2, name = 'Dropout_02')(x)\n",
    "output = Dense(num_classes, activation='softmax', name='Dense_02')(x)\n",
    "model = Model(Inp, output)\n",
    "\n",
    "print(model.summary())"
   ]
  },
  {
   "cell_type": "code",
   "execution_count": 16,
   "metadata": {
    "collapsed": true
   },
   "outputs": [],
   "source": [
    "train_epochs = 50\n",
    "batch_sizes = 1024"
   ]
  },
  {
   "cell_type": "code",
   "execution_count": 38,
   "metadata": {
    "collapsed": false
   },
   "outputs": [],
   "source": [
    "def step_decay(epoch):\n",
    "    if epoch<7:\n",
    "        return 0.003    \n",
    "    if epoch<15:\n",
    "        return 0.0015\n",
    "    if epoch<30:\n",
    "        return 0.001   \n",
    "    return 0.0005\n",
    "\n",
    "lrate=LearningRateScheduler(step_decay)"
   ]
  },
  {
   "cell_type": "code",
   "execution_count": 39,
   "metadata": {
    "collapsed": true
   },
   "outputs": [],
   "source": [
    "adam = keras.optimizers.Adam()\n",
    "model.compile( loss = 'categorical_crossentropy', optimizer = adam, metrics = ['accuracy'] )"
   ]
  },
  {
   "cell_type": "markdown",
   "metadata": {},
   "source": [
    "#### Ready to train.."
   ]
  },
  {
   "cell_type": "code",
   "execution_count": 40,
   "metadata": {
    "collapsed": false
   },
   "outputs": [
    {
     "name": "stdout",
     "output_type": "stream",
     "text": [
      "Train on 240000 samples, validate on 120000 samples\n",
      "Epoch 1/50\n",
      "240000/240000 [==============================] - 91s - loss: 1.1812 - acc: 0.6904 - val_loss: 1.0376 - val_acc: 0.7690\n",
      "Epoch 2/50\n",
      "240000/240000 [==============================] - 68s - loss: 0.8175 - acc: 0.7780 - val_loss: 0.7371 - val_acc: 0.7991\n",
      "Epoch 3/50\n",
      "240000/240000 [==============================] - 68s - loss: 0.7130 - acc: 0.8023 - val_loss: 0.6971 - val_acc: 0.8096\n",
      "Epoch 4/50\n",
      "240000/240000 [==============================] - 68s - loss: 0.6526 - acc: 0.8165 - val_loss: 0.7232 - val_acc: 0.8084\n",
      "Epoch 5/50\n",
      "240000/240000 [==============================] - 68s - loss: 0.6048 - acc: 0.8276 - val_loss: 0.6844 - val_acc: 0.8155\n",
      "Epoch 6/50\n",
      "240000/240000 [==============================] - 68s - loss: 0.5684 - acc: 0.8353 - val_loss: 0.6898 - val_acc: 0.8170\n",
      "Epoch 7/50\n",
      "240000/240000 [==============================] - 67s - loss: 0.5366 - acc: 0.8439 - val_loss: 0.6846 - val_acc: 0.8173\n",
      "Epoch 8/50\n",
      "240000/240000 [==============================] - 67s - loss: 0.4657 - acc: 0.8612 - val_loss: 0.6713 - val_acc: 0.8229\n",
      "Epoch 9/50\n",
      "240000/240000 [==============================] - 67s - loss: 0.4436 - acc: 0.8666 - val_loss: 0.6758 - val_acc: 0.8220\n",
      "Epoch 10/50\n",
      "240000/240000 [==============================] - 68s - loss: 0.4260 - acc: 0.8707 - val_loss: 0.6945 - val_acc: 0.8214\n",
      "Epoch 11/50\n",
      "240000/240000 [==============================] - 67s - loss: 0.4140 - acc: 0.8731 - val_loss: 0.7046 - val_acc: 0.8204\n",
      "Epoch 12/50\n",
      "240000/240000 [==============================] - 67s - loss: 0.4014 - acc: 0.8763 - val_loss: 0.7093 - val_acc: 0.8200\n",
      "Epoch 13/50\n",
      "240000/240000 [==============================] - 67s - loss: 0.3883 - acc: 0.8786 - val_loss: 0.7154 - val_acc: 0.8181\n",
      "Epoch 14/50\n",
      "240000/240000 [==============================] - 67s - loss: 0.3761 - acc: 0.8825 - val_loss: 0.7278 - val_acc: 0.8182\n",
      "Epoch 15/50\n",
      "240000/240000 [==============================] - 68s - loss: 0.3684 - acc: 0.8839 - val_loss: 0.7394 - val_acc: 0.8156\n",
      "Epoch 16/50\n",
      "240000/240000 [==============================] - 67s - loss: 0.3398 - acc: 0.8919 - val_loss: 0.7312 - val_acc: 0.8196\n",
      "Epoch 17/50\n",
      "240000/240000 [==============================] - 67s - loss: 0.3292 - acc: 0.8952 - val_loss: 0.7428 - val_acc: 0.8185\n",
      "Epoch 18/50\n",
      "240000/240000 [==============================] - 67s - loss: 0.3199 - acc: 0.8972 - val_loss: 0.7502 - val_acc: 0.8186\n",
      "Epoch 19/50\n",
      "240000/240000 [==============================] - 67s - loss: 0.3131 - acc: 0.8989 - val_loss: 0.7588 - val_acc: 0.8183\n",
      "Epoch 20/50\n",
      "240000/240000 [==============================] - 68s - loss: 0.3067 - acc: 0.9007 - val_loss: 0.7606 - val_acc: 0.8188\n",
      "Epoch 21/50\n",
      "240000/240000 [==============================] - 67s - loss: 0.3017 - acc: 0.9018 - val_loss: 0.7767 - val_acc: 0.8175\n",
      "Epoch 22/50\n",
      "240000/240000 [==============================] - 67s - loss: 0.2968 - acc: 0.9032 - val_loss: 0.7871 - val_acc: 0.8166\n",
      "Epoch 23/50\n",
      "240000/240000 [==============================] - 67s - loss: 0.2923 - acc: 0.9048 - val_loss: 0.7782 - val_acc: 0.8161\n",
      "Epoch 24/50\n",
      "240000/240000 [==============================] - 68s - loss: 0.2849 - acc: 0.9059 - val_loss: 0.7963 - val_acc: 0.8170\n",
      "Epoch 25/50\n",
      "240000/240000 [==============================] - 67s - loss: 0.2833 - acc: 0.9069 - val_loss: 0.7968 - val_acc: 0.8167\n",
      "Epoch 26/50\n",
      "240000/240000 [==============================] - 67s - loss: 0.2777 - acc: 0.9084 - val_loss: 0.8059 - val_acc: 0.8166\n",
      "Epoch 27/50\n",
      "240000/240000 [==============================] - 67s - loss: 0.2755 - acc: 0.9092 - val_loss: 0.8036 - val_acc: 0.8160\n",
      "Epoch 28/50\n",
      "240000/240000 [==============================] - 67s - loss: 0.2697 - acc: 0.9111 - val_loss: 0.8077 - val_acc: 0.8147\n",
      "Epoch 29/50\n",
      "240000/240000 [==============================] - 67s - loss: 0.2675 - acc: 0.9112 - val_loss: 0.8208 - val_acc: 0.8160\n",
      "Epoch 30/50\n",
      "240000/240000 [==============================] - 67s - loss: 0.2627 - acc: 0.9131 - val_loss: 0.8261 - val_acc: 0.8156\n",
      "Epoch 31/50\n",
      "240000/240000 [==============================] - 67s - loss: 0.2448 - acc: 0.9190 - val_loss: 0.8161 - val_acc: 0.8171\n",
      "Epoch 32/50\n",
      "240000/240000 [==============================] - 67s - loss: 0.2379 - acc: 0.9215 - val_loss: 0.8243 - val_acc: 0.8168\n",
      "Epoch 33/50\n",
      "240000/240000 [==============================] - 67s - loss: 0.2349 - acc: 0.9216 - val_loss: 0.8295 - val_acc: 0.8177\n",
      "Epoch 34/50\n",
      "240000/240000 [==============================] - 67s - loss: 0.2311 - acc: 0.9234 - val_loss: 0.8247 - val_acc: 0.8164\n",
      "Epoch 35/50\n",
      "240000/240000 [==============================] - 67s - loss: 0.2285 - acc: 0.9239 - val_loss: 0.8363 - val_acc: 0.8171\n",
      "Epoch 36/50\n",
      "240000/240000 [==============================] - 67s - loss: 0.2261 - acc: 0.9248 - val_loss: 0.8439 - val_acc: 0.8167\n",
      "Epoch 37/50\n",
      "240000/240000 [==============================] - 67s - loss: 0.2249 - acc: 0.9245 - val_loss: 0.8489 - val_acc: 0.8168\n",
      "Epoch 38/50\n",
      "240000/240000 [==============================] - 67s - loss: 0.2240 - acc: 0.9258 - val_loss: 0.8387 - val_acc: 0.8154\n",
      "Epoch 39/50\n",
      "240000/240000 [==============================] - 67s - loss: 0.2230 - acc: 0.9255 - val_loss: 0.8578 - val_acc: 0.8159\n",
      "Epoch 40/50\n",
      "240000/240000 [==============================] - 67s - loss: 0.2210 - acc: 0.9259 - val_loss: 0.8648 - val_acc: 0.8154\n",
      "Epoch 41/50\n",
      "240000/240000 [==============================] - 67s - loss: 0.2177 - acc: 0.9273 - val_loss: 0.8587 - val_acc: 0.8159\n",
      "Epoch 42/50\n",
      "240000/240000 [==============================] - 67s - loss: 0.2170 - acc: 0.9273 - val_loss: 0.8635 - val_acc: 0.8157\n",
      "Epoch 43/50\n",
      "240000/240000 [==============================] - 67s - loss: 0.2137 - acc: 0.9281 - val_loss: 0.8635 - val_acc: 0.8155\n",
      "Epoch 44/50\n",
      "240000/240000 [==============================] - 67s - loss: 0.2110 - acc: 0.9296 - val_loss: 0.8680 - val_acc: 0.8159\n",
      "Epoch 45/50\n",
      "240000/240000 [==============================] - 67s - loss: 0.2109 - acc: 0.9293 - val_loss: 0.8773 - val_acc: 0.8155\n",
      "Epoch 46/50\n",
      "240000/240000 [==============================] - 67s - loss: 0.2098 - acc: 0.9295 - val_loss: 0.8691 - val_acc: 0.8146\n",
      "Epoch 47/50\n",
      "240000/240000 [==============================] - 67s - loss: 0.2066 - acc: 0.9304 - val_loss: 0.8789 - val_acc: 0.8162\n",
      "Epoch 48/50\n",
      "240000/240000 [==============================] - 67s - loss: 0.2065 - acc: 0.9304 - val_loss: 0.8789 - val_acc: 0.8162\n",
      "Epoch 49/50\n",
      "240000/240000 [==============================] - 67s - loss: 0.2072 - acc: 0.9303 - val_loss: 0.8867 - val_acc: 0.8164\n",
      "Epoch 50/50\n",
      "240000/240000 [==============================] - 68s - loss: 0.2068 - acc: 0.9299 - val_loss: 0.8830 - val_acc: 0.8158\n"
     ]
    }
   ],
   "source": [
    "history = model.fit(x_train, y_train, \n",
    "                    batch_size = batch_sizes, \n",
    "                    epochs = train_epochs, verbose = 1, \n",
    "                    validation_data=(x_test, y_test), \n",
    "                    callbacks=[lrate])\n"
   ]
  },
  {
   "cell_type": "code",
   "execution_count": 41,
   "metadata": {
    "collapsed": true
   },
   "outputs": [],
   "source": [
    "model.save('modelqd.h5')"
   ]
  },
  {
   "cell_type": "code",
   "execution_count": 47,
   "metadata": {
    "collapsed": true
   },
   "outputs": [],
   "source": [
    "%matplotlib inline\n",
    "import matplotlib.pyplot as plt\n",
    "\n",
    "def plot_train(hist):\n",
    "    h = hist.history\n",
    "    if 'acc' in h:\n",
    "        meas='acc'\n",
    "        loc='lower right'\n",
    "    else:\n",
    "        meas='loss'\n",
    "        loc='upper right'\n",
    "    plt.plot(hist.history[meas])\n",
    "    plt.plot(hist.history['val_'+meas])\n",
    "    plt.title('model '+meas)\n",
    "    plt.ylabel(meas)\n",
    "    plt.xlabel('epoch')\n",
    "    plt.legend(['train', 'validation'], loc=loc)"
   ]
  },
  {
   "cell_type": "code",
   "execution_count": 43,
   "metadata": {
    "collapsed": false
   },
   "outputs": [
    {
     "data": {
      "image/png": "[encoded data removed]",
      "text/plain": [
       "<matplotlib.figure.Figure at 0x27cc5f2eb70>"
      ]
     },
     "metadata": {},
     "output_type": "display_data"
    }
   ],
   "source": [
    "plot_train(history)"
   ]
  },
  {
   "cell_type": "markdown",
   "metadata": {},
   "source": [
    "It looks like the model is overfitting. The next step is to play around the learning rate.."
   ]
  },
  {
   "cell_type": "markdown",
   "metadata": {},
   "source": [
    "#### Continue the training by changing the learn rate manually"
   ]
  },
  {
   "cell_type": "code",
   "execution_count": 59,
   "metadata": {
    "collapsed": true
   },
   "outputs": [],
   "source": [
    "model = keras.models.load_model('modelqd.h5')"
   ]
  },
  {
   "cell_type": "code",
   "execution_count": 24,
   "metadata": {
    "collapsed": false
   },
   "outputs": [
    {
     "name": "stdout",
     "output_type": "stream",
     "text": [
      "Train on 240000 samples, validate on 120000 samples\n",
      "Epoch 265/270\n",
      "240000/240000 [==============================] - 73s - loss: 0.5695 - acc: 0.8704 - val_loss: 0.3741 - val_acc: 0.9206\n",
      "Epoch 266/270\n",
      "240000/240000 [==============================] - 75s - loss: 0.5432 - acc: 0.8730 - val_loss: 0.3664 - val_acc: 0.9206\n",
      "Epoch 267/270\n",
      "240000/240000 [==============================] - 82s - loss: 0.5258 - acc: 0.8744 - val_loss: 0.3633 - val_acc: 0.9207\n",
      "Epoch 268/270\n",
      "240000/240000 [==============================] - 75s - loss: 0.5133 - acc: 0.8755 - val_loss: 0.3604 - val_acc: 0.9201\n",
      "Epoch 269/270\n",
      "240000/240000 [==============================] - 72s - loss: 0.5000 - acc: 0.8765 - val_loss: 0.3584 - val_acc: 0.9202\n",
      "Epoch 270/270\n",
      "240000/240000 [==============================] - 75s - loss: 0.4889 - acc: 0.8781 - val_loss: 0.3556 - val_acc: 0.9198\n"
     ]
    }
   ],
   "source": [
    "def step_decay1(epoch):\n",
    "    return 0.0001\n",
    "\n",
    "lrate=LearningRateScheduler(step_decay1)\n",
    "\n",
    "history = model.fit(x_train, y_train, \n",
    "                    batch_size = batch_sizes, \n",
    "                    epochs = 270, verbose = 1, \n",
    "                    initial_epoch = 264,\n",
    "                    validation_data=(x_test, y_test), \n",
    "                    callbacks=[lrate])"
   ]
  },
  {
   "cell_type": "markdown",
   "metadata": {},
   "source": [
    "Save the model again"
   ]
  },
  {
   "cell_type": "code",
   "execution_count": 30,
   "metadata": {
    "collapsed": false
   },
   "outputs": [
    {
     "name": "stdout",
     "output_type": "stream",
     "text": [
      "119808/120000 [============================>.] - ETA: 0s.\n",
      "Model Accuracy = 0.92\n",
      "Model Loss = 0.38\n"
     ]
    }
   ],
   "source": [
    "evaluation = model.evaluate(x_test, y_test,\n",
    "          batch_size=batch_sizes)\n",
    "print('.')\n",
    "print('Model Accuracy = %.2f' % (evaluation[1]))\n",
    "print('Model Loss = %.2f' % (evaluation[0]))"
   ]
  },
  {
   "cell_type": "code",
   "execution_count": 28,
   "metadata": {
    "collapsed": true
   },
   "outputs": [],
   "source": [
    "model.save('modelqd.h5')"
   ]
  },
  {
   "cell_type": "markdown",
   "metadata": {},
   "source": [
    "#### Let's make predictions"
   ]
  },
  {
   "cell_type": "code",
   "execution_count": 45,
   "metadata": {
    "collapsed": false
   },
   "outputs": [
    {
     "name": "stdout",
     "output_type": "stream",
     "text": [
      "Total error: 3248 out of 40000 or 8.12 %\n"
     ]
    }
   ],
   "source": [
    "res = model.predict(x_pred)\n",
    "\n",
    "n_count = 0\n",
    "i = 0\n",
    "le = []\n",
    "for r in res:\n",
    "    idx = np.argmax(r)\n",
    "    if idx != y_pred[i]:\n",
    "        n_count = n_count + 1\n",
    "        # w = r.argsort()[-3:][::-1]\n",
    "        # print( classes[y_pred[i]], [classes[y_pred[j]] for j in w] )\n",
    "    i = i + 1\n",
    "\n",
    "print('Total error:', n_count, 'out of', x_pred.shape[0], 'or',n_count/x_pred.shape[0]*100,'%')"
   ]
  },
  {
   "cell_type": "code",
   "execution_count": 38,
   "metadata": {
    "collapsed": false
   },
   "outputs": [
    {
     "name": "stdout",
     "output_type": "stream",
     "text": [
      "Prediction accuracy: 91.88 % out of 40000 dataset\n"
     ]
    }
   ],
   "source": [
    "pred_accuracy = (x_pred.shape[0]-n_count) / x_pred.shape[0] * 100\n",
    "print('Prediction accuracy:', pred_accuracy, '% out of', x_pred.shape[0], 'dataset')"
   ]
  },
  {
   "cell_type": "markdown",
   "metadata": {},
   "source": [
    "The prediction accuracy is **91.88 %** out of 40000 dataset"
   ]
  }
 ],
 "metadata": {
  "anaconda-cloud": {},
  "kernelspec": {
   "display_name": "Python [conda root]",
   "language": "python",
   "name": "conda-root-py"
  },
  "language_info": {
   "codemirror_mode": {
    "name": "ipython",
    "version": 3
   },
   "file_extension": ".py",
   "mimetype": "text/x-python",
   "name": "python",
   "nbconvert_exporter": "python",
   "pygments_lexer": "ipython3",
   "version": "3.5.2"
  }
 },
 "nbformat": 4,
 "nbformat_minor": 1
}

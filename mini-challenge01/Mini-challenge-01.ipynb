{
 "cells": [
  {
   "cell_type": "markdown",
   "metadata": {},
   "source": [
    "### Assignment Mini-Challenge 01"
   ]
  },
  {
   "cell_type": "markdown",
   "metadata": {},
   "source": [
    "> To use [QuickDraw dataset](https://quickdraw.withgoogle.com) to do image classification with CNN"
   ]
  },
  {
   "cell_type": "markdown",
   "metadata": {},
   "source": [
    "Below is the implementation with Keras using TF "
   ]
  },
  {
   "cell_type": "code",
   "execution_count": 1,
   "metadata": {
    "collapsed": false
   },
   "outputs": [
    {
     "name": "stderr",
     "output_type": "stream",
     "text": [
      "Using TensorFlow backend.\n"
     ]
    }
   ],
   "source": [
    "import numpy as np\n",
    "from keras.utils import to_categorical\n",
    "from keras.optimizers import Adam\n",
    "from keras.utils import to_categorical\n",
    "from keras.callbacks import LearningRateScheduler\n",
    "import keras.backend as K\n",
    "import tensorflow as tf\n",
    "import keras\n",
    "from keras.models import Sequential, Model\n",
    "from keras.layers import Dense, Dropout, Flatten,Input, BatchNormalization\n",
    "from keras.layers import Conv2D, MaxPooling2D\n",
    "from keras import backend as K"
   ]
  },
  {
   "cell_type": "code",
   "execution_count": 2,
   "metadata": {
    "collapsed": false
   },
   "outputs": [
    {
     "name": "stdout",
     "output_type": "stream",
     "text": [
      "2.0.8\n",
      "1.5.0-dev20171016\n"
     ]
    }
   ],
   "source": [
    "print(keras.__version__)\n",
    "print(tf.__version__)"
   ]
  },
  {
   "cell_type": "markdown",
   "metadata": {},
   "source": [
    "we use **40 classes** and **10K dataset**"
   ]
  },
  {
   "cell_type": "code",
   "execution_count": 4,
   "metadata": {
    "collapsed": true
   },
   "outputs": [],
   "source": [
    "classes40 = ['airplane','alarm clock','ambulance','angel','ant','anvil','apple','axe',\n",
    "             'banana','bandage','barn','baseball bat','baseball','basket','basketball',\n",
    "             'bathtub','beach','bear','beard','bed','bee','belt','bicycle','binoculars',\n",
    "             'birthday cake','blueberry','book','boomerang','bottlecap','bowtie',\n",
    "             'bracelet','brain','bread','broom','bulldozer','bus','bus','butterfly',\n",
    "             'cactus','cake']\n",
    "num_classes = len(classes40)"
   ]
  },
  {
   "cell_type": "code",
   "execution_count": 5,
   "metadata": {
    "collapsed": true
   },
   "outputs": [],
   "source": [
    "num_examples_per_class = 10000 # 10k dataset"
   ]
  },
  {
   "cell_type": "code",
   "execution_count": 6,
   "metadata": {
    "collapsed": true
   },
   "outputs": [],
   "source": [
    "x_data = np.load('data/x_data_40_classes_10k.npy')"
   ]
  },
  {
   "cell_type": "code",
   "execution_count": 7,
   "metadata": {
    "collapsed": true
   },
   "outputs": [],
   "source": [
    "labels = [np.full((num_examples_per_class,), classes40.index(qdraw)) for qdraw in classes40]\n",
    "\n",
    "y_data = np.concatenate(labels,axis=0)"
   ]
  },
  {
   "cell_type": "code",
   "execution_count": 8,
   "metadata": {
    "collapsed": true
   },
   "outputs": [],
   "source": [
    "def unison_shuffled_copies(a, b):\n",
    "    assert len(a) == len(b)\n",
    "    p = np.random.permutation(len(a))\n",
    "    return a[p], b[p]"
   ]
  },
  {
   "cell_type": "markdown",
   "metadata": {},
   "source": [
    "we shuffle the train and validation data "
   ]
  },
  {
   "cell_type": "code",
   "execution_count": 9,
   "metadata": {
    "collapsed": false
   },
   "outputs": [],
   "source": [
    "x_data, y_data = unison_shuffled_copies(x_data, y_data)"
   ]
  },
  {
   "cell_type": "code",
   "execution_count": 10,
   "metadata": {
    "collapsed": false
   },
   "outputs": [],
   "source": [
    "img_rows = 28\n",
    "img_cols = 28\n",
    "\n",
    "total_size = x_data.shape[0]\n",
    "\n",
    "num_pred = int(0.1 * total_size)              # set 10 % for testing \n",
    "num_validate = int(0.35 * total_size)          # set 35 % for validation\n",
    "num_train = int(0.55 * total_size)             # set 55 % for training\n",
    "\n",
    "x_train = x_data[0:num_train]\n",
    "y_train = y_data[0:num_train]\n",
    "\n",
    "x_test = x_data[num_train:(num_train+num_validate)]\n",
    "y_test = y_data[num_train:(num_train+num_validate)]\n",
    "\n",
    "x_pred = x_data[(num_train+num_validate):]\n",
    "y_pred = y_data[(num_train+num_validate):]\n",
    "\n",
    "x_train = x_train.reshape(x_train.shape[0], img_rows, img_cols, 1)\n",
    "x_test = x_test.reshape(x_test.shape[0], img_rows, img_cols, 1)\n",
    "x_pred = x_pred.reshape(x_pred.shape[0], img_rows, img_cols, 1)\n",
    "\n",
    "input_shape = (img_rows, img_cols, 1)"
   ]
  },
  {
   "cell_type": "code",
   "execution_count": 11,
   "metadata": {
    "collapsed": false
   },
   "outputs": [
    {
     "name": "stdout",
     "output_type": "stream",
     "text": [
      "(220000, 28, 28, 1)\n",
      "220000 train samples\n",
      "140000 test samples\n",
      "40000 pred samples\n"
     ]
    }
   ],
   "source": [
    "x_train = x_train.astype('float32')\n",
    "x_test = x_test.astype('float32')\n",
    "x_pred = x_pred.astype('float32')\n",
    "\n",
    "# normalize the image to 0 to 1\n",
    "x_train /= 255   \n",
    "x_test /= 255\n",
    "x_pred /= 255\n",
    "\n",
    "print(x_train.shape)\n",
    "print(x_train.shape[0], 'train samples')\n",
    "print(x_test.shape[0], 'test samples')\n",
    "print(x_pred.shape[0], 'pred samples')"
   ]
  },
  {
   "cell_type": "markdown",
   "metadata": {},
   "source": [
    "Hot encoding for the labels"
   ]
  },
  {
   "cell_type": "code",
   "execution_count": 12,
   "metadata": {
    "collapsed": true
   },
   "outputs": [],
   "source": [
    "y_train = keras.utils.to_categorical(y_train, num_classes)\n",
    "y_test = keras.utils.to_categorical(y_test, num_classes)"
   ]
  },
  {
   "cell_type": "code",
   "execution_count": 13,
   "metadata": {
    "collapsed": false
   },
   "outputs": [
    {
     "name": "stdout",
     "output_type": "stream",
     "text": [
      "_________________________________________________________________\n",
      "Layer (type)                 Output Shape              Param #   \n",
      "=================================================================\n",
      "input_1 (InputLayer)         (None, 28, 28, 1)         0         \n",
      "_________________________________________________________________\n",
      "Conv_01 (Conv2D)             (None, 26, 26, 32)        320       \n",
      "_________________________________________________________________\n",
      "Conv_02 (Conv2D)             (None, 24, 24, 32)        9248      \n",
      "_________________________________________________________________\n",
      "MaxPool_01 (MaxPooling2D)    (None, 12, 12, 32)        0         \n",
      "_________________________________________________________________\n",
      "Dropout_01 (Dropout)         (None, 12, 12, 32)        0         \n",
      "_________________________________________________________________\n",
      "Flatten_01 (Flatten)         (None, 4608)              0         \n",
      "_________________________________________________________________\n",
      "Dense_01 (Dense)             (None, 64)                294976    \n",
      "_________________________________________________________________\n",
      "batch_normalization_1 (Batch (None, 64)                256       \n",
      "_________________________________________________________________\n",
      "Dropout_02 (Dropout)         (None, 64)                0         \n",
      "_________________________________________________________________\n",
      "Dense_02 (Dense)             (None, 40)                2600      \n",
      "=================================================================\n",
      "Total params: 307,400\n",
      "Trainable params: 307,272\n",
      "Non-trainable params: 128\n",
      "_________________________________________________________________\n",
      "None\n"
     ]
    }
   ],
   "source": [
    "Inp = Input(input_shape) # 8000, 28, 28, 1\n",
    "x = Conv2D(32, kernel_size=(3, 3), activation='relu', name='Conv_01')(Inp)\n",
    "x = Conv2D(32, (3, 3), activation='relu', name='Conv_02')(x)\n",
    "x = MaxPooling2D(pool_size=(2, 2), name = 'MaxPool_01')(x)\n",
    "x = Dropout(0.3, name='Dropout_01')(x)\n",
    "x = Flatten(name='Flatten_01')(x)\n",
    "x = Dense(64, activation='relu', name='Dense_01')(x)\n",
    "x = BatchNormalization()(x)\n",
    "x = Dropout(0.25, name = 'Dropout_02')(x)\n",
    "output = Dense(num_classes, activation='softmax', name='Dense_02')(x)\n",
    "model = Model(Inp, output)\n",
    "\n",
    "print(model.summary())"
   ]
  },
  {
   "cell_type": "code",
   "execution_count": 14,
   "metadata": {
    "collapsed": true
   },
   "outputs": [],
   "source": [
    "train_epochs = 40\n",
    "batch_sizes = 1024"
   ]
  },
  {
   "cell_type": "code",
   "execution_count": 15,
   "metadata": {
    "collapsed": false
   },
   "outputs": [],
   "source": [
    "def step_decay(epoch):\n",
    "    if epoch<7:\n",
    "        return 0.003    \n",
    "    if epoch<15:\n",
    "        return 0.0015\n",
    "    if epoch<35:\n",
    "        return 0.001   \n",
    "    return 0.0005\n",
    "\n",
    "lrate=LearningRateScheduler(step_decay)"
   ]
  },
  {
   "cell_type": "code",
   "execution_count": 16,
   "metadata": {
    "collapsed": true
   },
   "outputs": [],
   "source": [
    "adam = keras.optimizers.Adam()\n",
    "model.compile( loss = 'categorical_crossentropy', optimizer = adam, metrics = ['accuracy'] )"
   ]
  },
  {
   "cell_type": "markdown",
   "metadata": {},
   "source": [
    "#### Ready to train.."
   ]
  },
  {
   "cell_type": "code",
   "execution_count": 17,
   "metadata": {
    "collapsed": false
   },
   "outputs": [
    {
     "name": "stdout",
     "output_type": "stream",
     "text": [
      "Train on 220000 samples, validate on 140000 samples\n",
      "Epoch 1/40\n",
      "220000/220000 [==============================] - 36s - loss: 1.5039 - acc: 0.6092 - val_loss: 1.2765 - val_acc: 0.7229\n",
      "Epoch 2/40\n",
      "220000/220000 [==============================] - 34s - loss: 1.0433 - acc: 0.7194 - val_loss: 0.8962 - val_acc: 0.7582\n",
      "Epoch 3/40\n",
      "220000/220000 [==============================] - 35s - loss: 0.9538 - acc: 0.7416 - val_loss: 0.8106 - val_acc: 0.7803\n",
      "Epoch 4/40\n",
      "220000/220000 [==============================] - 36s - loss: 0.9096 - acc: 0.7536 - val_loss: 0.7749 - val_acc: 0.7910\n",
      "Epoch 5/40\n",
      "220000/220000 [==============================] - 36s - loss: 0.8771 - acc: 0.7610 - val_loss: 0.7487 - val_acc: 0.7968\n",
      "Epoch 6/40\n",
      "220000/220000 [==============================] - 37s - loss: 0.8534 - acc: 0.7671 - val_loss: 0.7338 - val_acc: 0.8016\n",
      "Epoch 7/40\n",
      "220000/220000 [==============================] - 37s - loss: 0.8358 - acc: 0.7717 - val_loss: 0.7312 - val_acc: 0.8010\n",
      "Epoch 8/40\n",
      "220000/220000 [==============================] - 37s - loss: 0.7898 - acc: 0.7823 - val_loss: 0.7008 - val_acc: 0.8098\n",
      "Epoch 9/40\n",
      "220000/220000 [==============================] - 37s - loss: 0.7796 - acc: 0.7850 - val_loss: 0.7053 - val_acc: 0.8077\n",
      "Epoch 10/40\n",
      "220000/220000 [==============================] - 37s - loss: 0.7701 - acc: 0.7859 - val_loss: 0.6907 - val_acc: 0.8126\n",
      "Epoch 11/40\n",
      "220000/220000 [==============================] - 36s - loss: 0.7624 - acc: 0.7882 - val_loss: 0.6884 - val_acc: 0.8117\n",
      "Epoch 12/40\n",
      "220000/220000 [==============================] - 37s - loss: 0.7573 - acc: 0.7897 - val_loss: 0.6882 - val_acc: 0.8120\n",
      "Epoch 13/40\n",
      "220000/220000 [==============================] - 37s - loss: 0.7491 - acc: 0.7914 - val_loss: 0.6888 - val_acc: 0.8127\n",
      "Epoch 14/40\n",
      "220000/220000 [==============================] - 37s - loss: 0.7468 - acc: 0.7909 - val_loss: 0.6963 - val_acc: 0.8094\n",
      "Epoch 15/40\n",
      "220000/220000 [==============================] - 37s - loss: 0.7388 - acc: 0.7930 - val_loss: 0.6850 - val_acc: 0.8145\n",
      "Epoch 16/40\n",
      "220000/220000 [==============================] - 37s - loss: 0.7267 - acc: 0.7962 - val_loss: 0.6762 - val_acc: 0.8161\n",
      "Epoch 17/40\n",
      "220000/220000 [==============================] - 37s - loss: 0.7186 - acc: 0.7988 - val_loss: 0.6736 - val_acc: 0.8161\n",
      "Epoch 18/40\n",
      "220000/220000 [==============================] - 37s - loss: 0.7156 - acc: 0.7986 - val_loss: 0.6791 - val_acc: 0.8151\n",
      "Epoch 19/40\n",
      "220000/220000 [==============================] - 37s - loss: 0.7110 - acc: 0.7999 - val_loss: 0.6776 - val_acc: 0.8158\n",
      "Epoch 20/40\n",
      "220000/220000 [==============================] - 37s - loss: 0.7086 - acc: 0.8009 - val_loss: 0.6761 - val_acc: 0.8159\n",
      "Epoch 21/40\n",
      "220000/220000 [==============================] - 37s - loss: 0.7057 - acc: 0.8006 - val_loss: 0.6710 - val_acc: 0.8160\n",
      "Epoch 22/40\n",
      "220000/220000 [==============================] - 37s - loss: 0.7003 - acc: 0.8017 - val_loss: 0.6694 - val_acc: 0.8180\n",
      "Epoch 23/40\n",
      "220000/220000 [==============================] - 37s - loss: 0.7003 - acc: 0.8014 - val_loss: 0.6662 - val_acc: 0.8186\n",
      "Epoch 24/40\n",
      "220000/220000 [==============================] - 37s - loss: 0.6981 - acc: 0.8023 - val_loss: 0.6726 - val_acc: 0.8167\n",
      "Epoch 25/40\n",
      "220000/220000 [==============================] - 38s - loss: 0.6933 - acc: 0.8038 - val_loss: 0.6681 - val_acc: 0.8183\n",
      "Epoch 26/40\n",
      "220000/220000 [==============================] - 37s - loss: 0.6933 - acc: 0.8035 - val_loss: 0.6703 - val_acc: 0.8173\n",
      "Epoch 27/40\n",
      "220000/220000 [==============================] - 37s - loss: 0.6897 - acc: 0.8046 - val_loss: 0.6704 - val_acc: 0.8174\n",
      "Epoch 28/40\n",
      "220000/220000 [==============================] - 36s - loss: 0.6870 - acc: 0.8049 - val_loss: 0.6717 - val_acc: 0.8172\n",
      "Epoch 29/40\n",
      "220000/220000 [==============================] - 36s - loss: 0.6861 - acc: 0.8049 - val_loss: 0.6683 - val_acc: 0.8173\n",
      "Epoch 30/40\n",
      "220000/220000 [==============================] - 37s - loss: 0.6851 - acc: 0.8052 - val_loss: 0.6693 - val_acc: 0.8172\n",
      "Epoch 31/40\n",
      "220000/220000 [==============================] - 37s - loss: 0.6803 - acc: 0.8061 - val_loss: 0.6751 - val_acc: 0.8163\n",
      "Epoch 32/40\n",
      "220000/220000 [==============================] - 37s - loss: 0.6781 - acc: 0.8068 - val_loss: 0.6649 - val_acc: 0.8190\n",
      "Epoch 33/40\n",
      "220000/220000 [==============================] - 37s - loss: 0.6781 - acc: 0.8063 - val_loss: 0.6660 - val_acc: 0.8186\n",
      "Epoch 34/40\n",
      "220000/220000 [==============================] - 37s - loss: 0.6758 - acc: 0.8067 - val_loss: 0.6638 - val_acc: 0.8186\n",
      "Epoch 35/40\n",
      "220000/220000 [==============================] - 37s - loss: 0.6775 - acc: 0.8067 - val_loss: 0.6666 - val_acc: 0.8180\n",
      "Epoch 36/40\n",
      "220000/220000 [==============================] - 37s - loss: 0.6616 - acc: 0.8102 - val_loss: 0.6592 - val_acc: 0.8205\n",
      "Epoch 37/40\n",
      "220000/220000 [==============================] - 36s - loss: 0.6588 - acc: 0.8114 - val_loss: 0.6594 - val_acc: 0.8203\n",
      "Epoch 38/40\n",
      "220000/220000 [==============================] - 36s - loss: 0.6573 - acc: 0.8117 - val_loss: 0.6577 - val_acc: 0.8202\n",
      "Epoch 39/40\n",
      "220000/220000 [==============================] - 37s - loss: 0.6569 - acc: 0.8124 - val_loss: 0.6580 - val_acc: 0.8207\n",
      "Epoch 40/40\n",
      "220000/220000 [==============================] - 37s - loss: 0.6560 - acc: 0.8116 - val_loss: 0.6567 - val_acc: 0.8208\n"
     ]
    }
   ],
   "source": [
    "history = model.fit(x_train, y_train, \n",
    "                    batch_size = batch_sizes, \n",
    "                    epochs = train_epochs, verbose = 1, \n",
    "                    validation_data=(x_test, y_test), \n",
    "                    callbacks=[lrate])\n"
   ]
  },
  {
   "cell_type": "code",
   "execution_count": 18,
   "metadata": {
    "collapsed": true
   },
   "outputs": [],
   "source": [
    "model.save('modelqd.h5')"
   ]
  },
  {
   "cell_type": "code",
   "execution_count": 19,
   "metadata": {
    "collapsed": true
   },
   "outputs": [],
   "source": [
    "%matplotlib inline\n",
    "import matplotlib.pyplot as plt\n",
    "\n",
    "def plot_train(hist):\n",
    "    h = hist.history\n",
    "    if 'acc' in h:\n",
    "        meas='acc'\n",
    "        loc='lower right'\n",
    "    else:\n",
    "        meas='loss'\n",
    "        loc='upper right'\n",
    "    plt.plot(hist.history[meas])\n",
    "    plt.plot(hist.history['val_'+meas])\n",
    "    plt.title('model '+meas)\n",
    "    plt.ylabel(meas)\n",
    "    plt.xlabel('epoch')\n",
    "    plt.legend(['train', 'validation'], loc=loc)"
   ]
  },
  {
   "cell_type": "code",
   "execution_count": 20,
   "metadata": {
    "collapsed": false
   },
   "outputs": [
    {
     "data": {
      "image/png": "[encoded data removed]",
      "text/plain": [
       "<matplotlib.figure.Figure at 0x216632b2278>"
      ]
     },
     "metadata": {},
     "output_type": "display_data"
    }
   ],
   "source": [
    "plot_train(history)"
   ]
  },
  {
   "cell_type": "code",
   "execution_count": 22,
   "metadata": {
    "collapsed": false
   },
   "outputs": [
    {
     "name": "stdout",
     "output_type": "stream",
     "text": [
      "139264/140000 [============================>.] - ETA: 0s.\n",
      "Model Accuracy = 0.82\n",
      "Model Loss = 0.66\n"
     ]
    }
   ],
   "source": [
    "evaluation = model.evaluate(x_test, y_test,\n",
    "          batch_size=batch_sizes)\n",
    "print('.')\n",
    "print('Model Accuracy = %.2f' % (evaluation[1]))\n",
    "print('Model Loss = %.2f' % (evaluation[0]))"
   ]
  },
  {
   "cell_type": "markdown",
   "metadata": {},
   "source": [
    "#### Continue the training by changing the learn rate manually"
   ]
  },
  {
   "cell_type": "code",
   "execution_count": 75,
   "metadata": {
    "collapsed": true
   },
   "outputs": [],
   "source": [
    "model = keras.models.load_model('modelqd.h5')\n",
    "\n",
    "train_epochs = 43"
   ]
  },
  {
   "cell_type": "code",
   "execution_count": 76,
   "metadata": {
    "collapsed": false
   },
   "outputs": [
    {
     "name": "stdout",
     "output_type": "stream",
     "text": [
      "Train on 220000 samples, validate on 140000 samples\n",
      "Epoch 41/43\n",
      "220000/220000 [==============================] - 36s - loss: 0.6104 - acc: 0.8231 - val_loss: 0.6407 - val_acc: 0.8261\n",
      "Epoch 42/43\n",
      "220000/220000 [==============================] - 37s - loss: 0.6109 - acc: 0.8239 - val_loss: 0.6408 - val_acc: 0.8261\n",
      "Epoch 43/43\n",
      "220000/220000 [==============================] - 37s - loss: 0.6093 - acc: 0.8236 - val_loss: 0.6408 - val_acc: 0.8261\n"
     ]
    }
   ],
   "source": [
    "def step_decay1(epoch):\n",
    "    return 0.000001\n",
    "\n",
    "lrate=LearningRateScheduler(step_decay1)\n",
    "\n",
    "history1 = model.fit(x_train, y_train, \n",
    "                    batch_size = batch_sizes, \n",
    "                    epochs = train_epochs, verbose = 1, \n",
    "                    initial_epoch = 40,\n",
    "                    validation_data=(x_test, y_test), \n",
    "                    callbacks=[lrate])"
   ]
  },
  {
   "cell_type": "code",
   "execution_count": 77,
   "metadata": {
    "collapsed": false
   },
   "outputs": [
    {
     "name": "stdout",
     "output_type": "stream",
     "text": [
      "140000/140000 [==============================] - 6s     \n",
      ".\n",
      "Model Accuracy = 0.83\n",
      "Model Loss = 0.64\n"
     ]
    }
   ],
   "source": [
    "evaluation = model.evaluate(x_test, y_test,\n",
    "          batch_size=batch_sizes)\n",
    "print('.')\n",
    "print('Model Accuracy = %.2f' % (evaluation[1]))\n",
    "print('Model Loss = %.2f' % (evaluation[0]))"
   ]
  },
  {
   "cell_type": "code",
   "execution_count": 78,
   "metadata": {
    "collapsed": true
   },
   "outputs": [],
   "source": [
    "model.save('modelqd.h5')"
   ]
  },
  {
   "cell_type": "code",
   "execution_count": 95,
   "metadata": {
    "collapsed": false
   },
   "outputs": [
    {
     "data": {
      "image/png": "[encoded data removed]",
      "text/plain": [
       "<matplotlib.figure.Figure at 0x217145198d0>"
      ]
     },
     "metadata": {},
     "output_type": "display_data"
    }
   ],
   "source": [
    "history1.history['acc'] = history.history['acc'] + history1.history['acc']\n",
    "history1.history['val_acc'] = history.history['val_acc'] + history1.history['val_acc']\n",
    "plot_train(history1)"
   ]
  },
  {
   "cell_type": "markdown",
   "metadata": {},
   "source": [
    "#### Let's make predictions"
   ]
  },
  {
   "cell_type": "code",
   "execution_count": 96,
   "metadata": {
    "collapsed": false
   },
   "outputs": [
    {
     "name": "stdout",
     "output_type": "stream",
     "text": [
      "Total error: 6891 out of 40000 or 17.227500000000003 %\n"
     ]
    }
   ],
   "source": [
    "res = model.predict(x_pred)\n",
    "\n",
    "n_count = 0\n",
    "i = 0\n",
    "le = []\n",
    "for r in res:\n",
    "    idx = np.argmax(r)\n",
    "    if idx != y_pred[i]:\n",
    "        n_count = n_count + 1\n",
    "        # w = r.argsort()[-3:][::-1]\n",
    "        # print( classes[y_pred[i]], [classes[y_pred[j]] for j in w] )\n",
    "    i = i + 1\n",
    "\n",
    "print('Total error:', n_count, 'out of', x_pred.shape[0], 'or',n_count/x_pred.shape[0]*100,'%')"
   ]
  },
  {
   "cell_type": "code",
   "execution_count": 97,
   "metadata": {
    "collapsed": false
   },
   "outputs": [
    {
     "name": "stdout",
     "output_type": "stream",
     "text": [
      "Prediction accuracy: 82.77% out of 40000 dataset\n"
     ]
    }
   ],
   "source": [
    "pred_accuracy = (x_pred.shape[0]-n_count) / x_pred.shape[0] * 100\n",
    "print('Prediction accuracy: %.2f' % pred_accuracy + '% out of', x_pred.shape[0], 'dataset')"
   ]
  },
  {
   "cell_type": "markdown",
   "metadata": {},
   "source": [
    "The prediction accuracy is **82.77 %** out of 40000 dataset"
   ]
  }
 ],
 "metadata": {
  "anaconda-cloud": {},
  "kernelspec": {
   "display_name": "Python [conda root]",
   "language": "python",
   "name": "conda-root-py"
  },
  "language_info": {
   "codemirror_mode": {
    "name": "ipython",
    "version": 3
   },
   "file_extension": ".py",
   "mimetype": "text/x-python",
   "name": "python",
   "nbconvert_exporter": "python",
   "pygments_lexer": "ipython3",
   "version": "3.5.2"
  }
 },
 "nbformat": 4,
 "nbformat_minor": 1
}

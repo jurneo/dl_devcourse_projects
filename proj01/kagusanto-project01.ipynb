{
 "cells": [
  {
   "cell_type": "markdown",
   "metadata": {},
   "source": [
    "## Assignment 01 - Addition Two Numbers"
   ]
  },
  {
   "cell_type": "markdown",
   "metadata": {},
   "source": [
    "A brief summary to the problem:"
   ]
  },
  {
   "cell_type": "markdown",
   "metadata": {},
   "source": [
    "> Given two numbers $x$ and $y$ with a range from 0 to 100, use deep learning to predict the $z$, the result of adding $x$ and $y$ using classification method"
   ]
  },
  {
   "cell_type": "markdown",
   "metadata": {},
   "source": [
    "With $x = [0\\ldotp\\ldotp 100]$ and $y = [0\\ldotp\\ldotp 100]$, the minimum value of $z$ is **0** and the maximum value is **200**. Therefore, there are **200** number of classes."
   ]
  },
  {
   "cell_type": "markdown",
   "metadata": {},
   "source": [
    "To make the problem challenging, we need to take out some integers from the possible value in both $x$ and $y$ lists, for example **28, 51, 73**, from the training data. And use them later in the prediction. The idea is to test if the *trained network* can generalize well to the unseen dataset."
   ]
  },
  {
   "cell_type": "markdown",
   "metadata": {},
   "source": [
    "Below is the code, starting with the import parts"
   ]
  },
  {
   "cell_type": "code",
   "execution_count": 10,
   "metadata": {
    "collapsed": false
   },
   "outputs": [],
   "source": [
    "import numpy as np\n",
    "import keras\n",
    "\n",
    "from keras.layers import *\n",
    "from keras.models import Model, Sequential\n",
    "from keras.optimizers import Adam\n",
    "from keras.utils import to_categorical\n",
    "from keras.callbacks import LearningRateScheduler\n",
    "import keras.backend as K\n",
    "import tensorflow as tf\n",
    "\n",
    "from random import shuffle\n",
    "from time import time"
   ]
  },
  {
   "cell_type": "code",
   "execution_count": 11,
   "metadata": {
    "collapsed": false
   },
   "outputs": [
    {
     "name": "stdout",
     "output_type": "stream",
     "text": [
      "2.0.8\n",
      "1.3.0\n"
     ]
    }
   ],
   "source": [
    "print(keras.__version__)\n",
    "print(tf.__version__)"
   ]
  },
  {
   "cell_type": "code",
   "execution_count": 12,
   "metadata": {
    "collapsed": false
   },
   "outputs": [],
   "source": [
    "max_range1, max_range2 = 100, 100 # the maximum value of x and y\n",
    "test_list = [28, 51, 73] # the list of the numbers to be taken out from the training data"
   ]
  },
  {
   "cell_type": "code",
   "execution_count": 13,
   "metadata": {
    "collapsed": true
   },
   "outputs": [],
   "source": [
    "n_classes = max_range1 + max_range2 + 1 # output class\n",
    "num_data = 500000 # number of training data"
   ]
  },
  {
   "cell_type": "markdown",
   "metadata": {},
   "source": [
    "#### We generate the training data using random number generator"
   ]
  },
  {
   "cell_type": "code",
   "execution_count": 14,
   "metadata": {
    "collapsed": true
   },
   "outputs": [],
   "source": [
    "def gen_random_data(seed = 8):\n",
    "    z = []    \n",
    "    seed = 8\n",
    "    np.random.seed(seed)\n",
    "    t = [] # validation data\n",
    "    for i in range(0,num_data):\n",
    "        v1 = np.random.randint(0,max_range1+1)\n",
    "        v2 = np.random.randint(0,max_range2+1)\n",
    "        if v1 in test_list or v2 in test_list:\n",
    "            t.append((v1,v2,v1+v2))\n",
    "            continue\n",
    "        z.append((v1,v2,v1+v2))\n",
    "    z = z + t\n",
    "    return z"
   ]
  },
  {
   "cell_type": "code",
   "execution_count": 15,
   "metadata": {
    "collapsed": true
   },
   "outputs": [],
   "source": [
    "z = gen_random_data()\n",
    "\n",
    "# set the dataset as numpy array\n",
    "x=np.array( [v[0:2] for v in z] ).astype('float32')\n",
    "y=np.array( [v[2:][0] for v in z] ).astype('float32')"
   ]
  },
  {
   "cell_type": "markdown",
   "metadata": {},
   "source": [
    "#### We need to normalize the training data to be within the range of $[0,1]$"
   ]
  },
  {
   "cell_type": "code",
   "execution_count": 16,
   "metadata": {
    "collapsed": true
   },
   "outputs": [],
   "source": [
    "# normalize\n",
    "x = x / max_range1"
   ]
  },
  {
   "cell_type": "code",
   "execution_count": 17,
   "metadata": {
    "collapsed": true
   },
   "outputs": [],
   "source": [
    "# hot encoding\n",
    "yy=to_categorical(y, n_classes)"
   ]
  },
  {
   "cell_type": "markdown",
   "metadata": {},
   "source": [
    "#### We set 80$\\%$ for training data and 20$\\%$ for validation data "
   ]
  },
  {
   "cell_type": "code",
   "execution_count": 18,
   "metadata": {
    "collapsed": true
   },
   "outputs": [],
   "source": [
    "# split train and validation data\n",
    "n_train = int( 0.8 * num_data ) \n",
    "x_train = x[0:n_train,]\n",
    "x_test = x[n_train:,]\n",
    "y_train = yy[0:n_train,] \n",
    "y_test = yy[n_train:,]\n"
   ]
  },
  {
   "cell_type": "markdown",
   "metadata": {},
   "source": [
    "#### Set the hyperparameters:"
   ]
  },
  {
   "cell_type": "code",
   "execution_count": 19,
   "metadata": {
    "collapsed": true
   },
   "outputs": [],
   "source": [
    "# setup hyperparameter for dense layer\n",
    "n_input = 2 # x + y -- two input dataset\n",
    "n_hidden_1 = 200 # layer - 1\n",
    "n_hidden_2 = 150 # layer - 2\n",
    "n_hidden_3 = 100 # layer - 3\n",
    "n_hidden_4 = 50 # layer - 3"
   ]
  },
  {
   "cell_type": "markdown",
   "metadata": {},
   "source": [
    "#### The model"
   ]
  },
  {
   "cell_type": "code",
   "execution_count": 20,
   "metadata": {
    "collapsed": false
   },
   "outputs": [],
   "source": [
    "Inp = Input(shape=(2,))\n",
    "x = Dense( n_hidden_1, activation = 'relu', name = 'Dense_1')(Inp)\n",
    "x = Dense( n_hidden_2, activation = 'relu', name = 'Dense_2')(x)\n",
    "x = Dense( n_hidden_3, activation = 'relu', name = 'Dense_3')(x)\n",
    "x = Dense( n_hidden_4, activation = 'relu', name = 'Dense_4')(x)\n",
    "output = Dense( n_classes, activation = 'softmax', name = 'Dense_out')(x)"
   ]
  },
  {
   "cell_type": "code",
   "execution_count": 21,
   "metadata": {
    "collapsed": false
   },
   "outputs": [],
   "source": [
    "# create the model\n",
    "model = Model(Inp, output)"
   ]
  },
  {
   "cell_type": "code",
   "execution_count": 22,
   "metadata": {
    "collapsed": false
   },
   "outputs": [
    {
     "name": "stdout",
     "output_type": "stream",
     "text": [
      "_________________________________________________________________\n",
      "Layer (type)                 Output Shape              Param #   \n",
      "=================================================================\n",
      "input_1 (InputLayer)         (None, 2)                 0         \n",
      "_________________________________________________________________\n",
      "Dense_1 (Dense)              (None, 200)               600       \n",
      "_________________________________________________________________\n",
      "Dense_2 (Dense)              (None, 150)               30150     \n",
      "_________________________________________________________________\n",
      "Dense_3 (Dense)              (None, 100)               15100     \n",
      "_________________________________________________________________\n",
      "Dense_4 (Dense)              (None, 50)                5050      \n",
      "_________________________________________________________________\n",
      "Dense_out (Dense)            (None, 201)               10251     \n",
      "=================================================================\n",
      "Total params: 61,151\n",
      "Trainable params: 61,151\n",
      "Non-trainable params: 0\n",
      "_________________________________________________________________\n"
     ]
    }
   ],
   "source": [
    "model.summary()"
   ]
  },
  {
   "cell_type": "code",
   "execution_count": 23,
   "metadata": {
    "collapsed": true
   },
   "outputs": [],
   "source": [
    "train_epochs = 400\n",
    "batch_sizes = 40000"
   ]
  },
  {
   "cell_type": "markdown",
   "metadata": {},
   "source": [
    "We introduce a function to allow changing the learning rate at different stage of epochs"
   ]
  },
  {
   "cell_type": "code",
   "execution_count": 24,
   "metadata": {
    "collapsed": true
   },
   "outputs": [],
   "source": [
    "def step_decay(epoch):\n",
    "    if epoch<20:\n",
    "        return 0.002\n",
    "    if epoch<60:\n",
    "        return 0.001\n",
    "    return 0.0005\n",
    "\n",
    "lrate=LearningRateScheduler(step_decay)"
   ]
  },
  {
   "cell_type": "code",
   "execution_count": 25,
   "metadata": {
    "collapsed": true
   },
   "outputs": [],
   "source": [
    "adam = keras.optimizers.Adam()\n",
    "model.compile( loss = 'categorical_crossentropy', optimizer = adam, metrics = ['accuracy'] )"
   ]
  },
  {
   "cell_type": "markdown",
   "metadata": {},
   "source": [
    "#### Train the model"
   ]
  },
  {
   "cell_type": "code",
   "execution_count": 26,
   "metadata": {
    "collapsed": true
   },
   "outputs": [
    {
     "name": "stdout",
     "output_type": "stream",
     "text": [
      "Train on 400000 samples, validate on 100000 samples\n",
      "Epoch 1/400\n",
      "400000/400000 [==============================] - 4s - loss: 5.2740 - acc: 0.0081 - val_loss: 5.1965 - val_acc: 0.0094\n",
      "Epoch 2/400\n",
      "400000/400000 [==============================] - 2s - loss: 5.1532 - acc: 0.0092 - val_loss: 5.0674 - val_acc: 0.0091\n",
      "Epoch 3/400\n",
      "400000/400000 [==============================] - 2s - loss: 5.0373 - acc: 0.0090 - val_loss: 4.9424 - val_acc: 0.0113\n",
      "Epoch 4/400\n",
      "400000/400000 [==============================] - 2s - loss: 4.8722 - acc: 0.0108 - val_loss: 4.6889 - val_acc: 0.0162\n",
      "Epoch 5/400\n",
      "400000/400000 [==============================] - 2s - loss: 4.4886 - acc: 0.0289 - val_loss: 4.1501 - val_acc: 0.0332\n",
      "Epoch 6/400\n",
      "400000/400000 [==============================] - 2s - loss: 3.9447 - acc: 0.0557 - val_loss: 3.6487 - val_acc: 0.0884\n",
      "Epoch 7/400\n",
      "400000/400000 [==============================] - 2s - loss: 3.5279 - acc: 0.0913 - val_loss: 3.3115 - val_acc: 0.1229\n",
      "Epoch 8/400\n",
      "400000/400000 [==============================] - 2s - loss: 3.2291 - acc: 0.1284 - val_loss: 3.0520 - val_acc: 0.1466\n",
      "Epoch 9/400\n",
      "400000/400000 [==============================] - 2s - loss: 3.0095 - acc: 0.1468 - val_loss: 2.8882 - val_acc: 0.1396\n",
      "Epoch 10/400\n",
      "400000/400000 [==============================] - 2s - loss: 2.8370 - acc: 0.1769 - val_loss: 2.7144 - val_acc: 0.1886\n",
      "Epoch 50/400\n",
      "400000/400000 [==============================] - 2s - loss: 1.5804 - acc: 0.5387 - val_loss: 1.5432 - val_acc: 0.5343\n",
      "Epoch 51/400\n",
      "400000/400000 [==============================] - 2s - loss: 1.5746 - acc: 0.5281 - val_loss: 1.5426 - val_acc: 0.5337\n",
      "Epoch 52/400\n",
      "400000/400000 [==============================] - 2s - loss: 1.5597 - acc: 0.5325 - val_loss: 1.5203 - val_acc: 0.5430\n",
      "Epoch 53/400\n",
      "400000/400000 [==============================] - 2s - loss: 1.5446 - acc: 0.5567 - val_loss: 1.4943 - val_acc: 0.6120\n",
      "Epoch 54/400\n",
      "400000/400000 [==============================] - 2s - loss: 1.5288 - acc: 0.5663 - val_loss: 1.4803 - val_acc: 0.5822\n",
      "Epoch 100/400\n",
      "400000/400000 [==============================] - 2s - loss: 1.2395 - acc: 0.7409 - val_loss: 1.2024 - val_acc: 0.7410\n",
      "Epoch 150/400\n",
      "400000/400000 [==============================] - 2s - loss: 1.0441 - acc: 0.7742 - val_loss: 1.0082 - val_acc: 0.7979\n",
      "Epoch 200/400\n",
      "400000/400000 [==============================] - 2s - loss: 0.8989 - acc: 0.8142 - val_loss: 0.8638 - val_acc: 0.8389\n",
      "Epoch 201/400\n",
      "400000/400000 [==============================] - 2s - loss: 0.8987 - acc: 0.8101 - val_loss: 0.8572 - val_acc: 0.8422\n",
      "Epoch 202/400\n",
      "400000/400000 [==============================] - 2s - loss: 0.8939 - acc: 0.8157 - val_loss: 0.8553 - val_acc: 0.8117\n",
      "Epoch 203/400\n",
      "400000/400000 [==============================] - 2s - loss: 0.8949 - acc: 0.8056 - val_loss: 0.8588 - val_acc: 0.8099\n",
      "Epoch 204/400\n",
      "400000/400000 [==============================] - 2s - loss: 0.8960 - acc: 0.7976 - val_loss: 0.8623 - val_acc: 0.8311\n",
      "Epoch 250/400\n",
      "400000/400000 [==============================] - 2s - loss: 0.7941 - acc: 0.8248 - val_loss: 0.7597 - val_acc: 0.8234\n",
      "Epoch 300/400\n",
      "400000/400000 [==============================] - 2s - loss: 0.7114 - acc: 0.8462 - val_loss: 0.6736 - val_acc: 0.8808\n",
      "Epoch 350/400\n",
      "400000/400000 [==============================] - 2s - loss: 0.6541 - acc: 0.8616 - val_loss: 0.6284 - val_acc: 0.8626\n",
      "Epoch 395/400\n",
      "400000/400000 [==============================] - 2s - loss: 0.6036 - acc: 0.8632 - val_loss: 0.5764 - val_acc: 0.8669\n",
      "Epoch 396/400\n",
      "400000/400000 [==============================] - 2s - loss: 0.6042 - acc: 0.8558 - val_loss: 0.5762 - val_acc: 0.8726\n",
      "Epoch 397/400\n",
      "400000/400000 [==============================] - 2s - loss: 0.6004 - acc: 0.8544 - val_loss: 0.5649 - val_acc: 0.8582\n",
      "Epoch 398/400\n",
      "400000/400000 [==============================] - 2s - loss: 0.6018 - acc: 0.8553 - val_loss: 0.5735 - val_acc: 0.8689\n",
      "Epoch 399/400\n",
      "400000/400000 [==============================] - 2s - loss: 0.6037 - acc: 0.8567 - val_loss: 0.5732 - val_acc: 0.8394\n",
      "Epoch 400/400\n",
      "400000/400000 [==============================] - 3s - loss: 0.6032 - acc: 0.8495 - val_loss: 0.5654 - val_acc: 0.8673\n"
     ]
    }
   ],
   "source": [
    "history = model.fit(x_train, y_train, \n",
    "                    batch_size = batch_sizes, \n",
    "                    epochs = train_epochs, verbose = 1, \n",
    "                    validation_data=(x_test, y_test), \n",
    "                    callbacks=[lrate])"
   ]
  },
  {
   "cell_type": "code",
   "execution_count": 27,
   "metadata": {
    "collapsed": true
   },
   "outputs": [],
   "source": [
    "%matplotlib inline\n",
    "import matplotlib.pyplot as plt "
   ]
  },
  {
   "cell_type": "code",
   "execution_count": 28,
   "metadata": {
    "collapsed": true
   },
   "outputs": [],
   "source": [
    "def plot_train(hist):\n",
    "    h = hist.history\n",
    "    if 'acc' in h:\n",
    "        meas='acc'\n",
    "        loc='lower right'\n",
    "    else:\n",
    "        meas='loss'\n",
    "        loc='upper right'\n",
    "    plt.plot(hist.history[meas])\n",
    "    plt.plot(hist.history['val_'+meas])\n",
    "    plt.title('model '+meas)\n",
    "    plt.ylabel(meas)\n",
    "    plt.xlabel('epoch')\n",
    "    plt.legend(['train', 'validation'], loc=loc)"
   ]
  },
  {
   "cell_type": "code",
   "execution_count": 29,
   "metadata": {
    "collapsed": false
   },
   "outputs": [
    {
     "data": {
      "image/png": "[encoded data removed]",
      "text/plain": [
       "<matplotlib.figure.Figure at 0x16b5c790208>"
      ]
     },
     "metadata": {},
     "output_type": "display_data"
    }
   ],
   "source": [
    "plot_train(history)"
   ]
  },
  {
   "cell_type": "markdown",
   "metadata": {},
   "source": [
    "#### Evaluate the model"
   ]
  },
  {
   "cell_type": "code",
   "execution_count": 30,
   "metadata": {
    "collapsed": false
   },
   "outputs": [
    {
     "name": "stdout",
     "output_type": "stream",
     "text": [
      "Test loss: 0.56541998786\n",
      "Test accuracy: 0.86727\n"
     ]
    }
   ],
   "source": [
    "score = model.evaluate(x_test, y_test, verbose=0)\n",
    "print('Test loss:', score[0])\n",
    "print('Test accuracy:', score[1])"
   ]
  },
  {
   "cell_type": "markdown",
   "metadata": {},
   "source": [
    "#### Save the model"
   ]
  },
  {
   "cell_type": "code",
   "execution_count": 31,
   "metadata": {
    "collapsed": true
   },
   "outputs": [],
   "source": [
    "model.save('model.h5') "
   ]
  },
  {
   "cell_type": "markdown",
   "metadata": {},
   "source": [
    "#### Do prediction test on random data"
   ]
  },
  {
   "cell_type": "code",
   "execution_count": 32,
   "metadata": {
    "collapsed": false
   },
   "outputs": [
    {
     "name": "stdout",
     "output_type": "stream",
     "text": [
      "% prediction accuracy 1 -  87.9\n"
     ]
    }
   ],
   "source": [
    "rr = []\n",
    "numtest = 1000\n",
    "for i in range(0,numtest):\n",
    "    v3 = np.random.randint(0, max_range1)\n",
    "    v4 = np.random.randint(0, max_range2)\n",
    "    v6 = np.array([[v3,v4]]).astype('float32') / max_range1    \n",
    "    v5=np.argmax( model.predict( v6 ) )\n",
    "    r = v5==(v3+v4)\n",
    "    rr.append(r)\n",
    "\n",
    "print(\"% prediction accuracy 1 - \", rr.count(True) / numtest * 100)"
   ]
  },
  {
   "cell_type": "markdown",
   "metadata": {},
   "source": [
    "The prediction accuracy from random dataset: **87.9$\\%$**"
   ]
  },
  {
   "cell_type": "code",
   "execution_count": 33,
   "metadata": {
    "collapsed": false
   },
   "outputs": [
    {
     "name": "stdout",
     "output_type": "stream",
     "text": [
      "% prediction accuracy 2 - 88.12\n"
     ]
    }
   ],
   "source": [
    "rr = []\n",
    "for i in range(0,101):\n",
    "    for j in test_list:\n",
    "        v3 = np.random.randint(0, max_range1)\n",
    "        v4 = j\n",
    "        v6 = np.array([[v3,v4]]).astype('float32') / max_range1    \n",
    "        v5=np.argmax( model.predict( v6 ) )\n",
    "        r = v5==(v3+v4)\n",
    "        rr.append(r)\n",
    "        \n",
    "        # swap v3 and v4 with test list\n",
    "        v3 = j\n",
    "        v4 = np.random.randint(0, max_range1)\n",
    "        v6 = np.array([[v3,v4]]).astype('float32') / max_range1    \n",
    "        v5=np.argmax( model.predict( v6 ) )\n",
    "        r = v5==(v3+v4)\n",
    "        rr.append(r)\n",
    "\n",
    "print(\"% prediction accuracy 2 - {0:2.2f}\".format(rr.count(True) / len(rr) * 100))"
   ]
  },
  {
   "cell_type": "markdown",
   "metadata": {},
   "source": [
    "The prediction accuracy from test list dataset: **88.12$\\%$**"
   ]
  },
  {
   "cell_type": "markdown",
   "metadata": {},
   "source": [
    "To improve the accuracy in this case, I have tried to increase the number of training epochs, and can get higher prediction accuracy"
   ]
  }
 ],
 "metadata": {
  "anaconda-cloud": {},
  "kernelspec": {
   "display_name": "Python [conda root]",
   "language": "python",
   "name": "conda-root-py"
  },
  "language_info": {
   "codemirror_mode": {
    "name": "ipython",
    "version": 3
   },
   "file_extension": ".py",
   "mimetype": "text/x-python",
   "name": "python",
   "nbconvert_exporter": "python",
   "pygments_lexer": "ipython3",
   "version": "3.5.2"
  }
 },
 "nbformat": 4,
 "nbformat_minor": 1
}

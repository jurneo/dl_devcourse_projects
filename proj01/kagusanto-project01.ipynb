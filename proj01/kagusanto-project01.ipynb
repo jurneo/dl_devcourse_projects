{
 "cells": [
  {
   "cell_type": "markdown",
   "metadata": {},
   "source": [
    "## Assignment 01 - Addition Two Numbers"
   ]
  },
  {
   "cell_type": "markdown",
   "metadata": {},
   "source": [
    "A brief summary to the problem:"
   ]
  },
  {
   "cell_type": "markdown",
   "metadata": {},
   "source": [
    "> Given two numbers $x$ and $y$ with a range from 0 to 100, use deep learning to predict the $z$, the result of adding $x$ and $y$ using classification method"
   ]
  },
  {
   "cell_type": "markdown",
   "metadata": {},
   "source": [
    "With $x = [0\\ldotp\\ldotp 100]$ and $y = [0\\ldotp\\ldotp 100]$, the minimum value of $z$ is **0** and the maximum value is **200**. Therefore, there are **200** number of classes."
   ]
  },
  {
   "cell_type": "markdown",
   "metadata": {},
   "source": [
    "To make the problem challenging, we need to take out some integers from the possible value in both $x$ and $y$ lists, for example **28, 51, 73**, from the training data. And use them later in the prediction. The idea is to test if the *trained network* can generalize well to the unseen dataset."
   ]
  },
  {
   "cell_type": "markdown",
   "metadata": {},
   "source": [
    "Below is the code, starting with the import parts"
   ]
  },
  {
   "cell_type": "code",
   "execution_count": 4,
   "metadata": {
    "collapsed": false
   },
   "outputs": [],
   "source": [
    "import numpy as np\n",
    "import keras\n",
    "\n",
    "from keras.layers import *\n",
    "from keras.models import Model, Sequential\n",
    "from keras.optimizers import Adam\n",
    "from keras.utils import to_categorical\n",
    "from keras.callbacks import LearningRateScheduler\n",
    "import keras.backend as K\n",
    "import tensorflow as tf\n",
    "\n",
    "from random import shuffle\n",
    "from time import time"
   ]
  },
  {
   "cell_type": "code",
   "execution_count": 5,
   "metadata": {
    "collapsed": false
   },
   "outputs": [
    {
     "name": "stdout",
     "output_type": "stream",
     "text": [
      "2.0.8\n",
      "1.2.0\n"
     ]
    }
   ],
   "source": [
    "print(keras.__version__)\n",
    "print(tf.__version__)"
   ]
  },
  {
   "cell_type": "code",
   "execution_count": 6,
   "metadata": {
    "collapsed": false
   },
   "outputs": [],
   "source": [
    "max_range1, max_range2 = 100, 100 # the maximum value of x and y\n",
    "test_list = [28, 51, 73] # the list of the numbers to be taken out from the training data"
   ]
  },
  {
   "cell_type": "code",
   "execution_count": 7,
   "metadata": {
    "collapsed": true
   },
   "outputs": [],
   "source": [
    "n_classes = max_range1 + max_range2 + 1 # output class\n",
    "num_data = 500000 # number of training data"
   ]
  },
  {
   "cell_type": "markdown",
   "metadata": {},
   "source": [
    "#### We generate the training data using random number generator"
   ]
  },
  {
   "cell_type": "code",
   "execution_count": 8,
   "metadata": {
    "collapsed": true
   },
   "outputs": [],
   "source": [
    "def gen_random_data(seed = 8):\n",
    "    z = []    \n",
    "    seed = 8\n",
    "    np.random.seed(seed)\n",
    "    t = [] # validation data\n",
    "    for i in range(0,num_data):\n",
    "        v1 = np.random.randint(0,max_range1+1)\n",
    "        v2 = np.random.randint(0,max_range2+1)\n",
    "        if v1 in test_list or v2 in test_list:\n",
    "            t.append((v1,v2,v1+v2))\n",
    "            continue\n",
    "        z.append((v1,v2,v1+v2))\n",
    "    z = z + t\n",
    "    return z"
   ]
  },
  {
   "cell_type": "code",
   "execution_count": 9,
   "metadata": {
    "collapsed": true
   },
   "outputs": [],
   "source": [
    "z = gen_random_data()\n",
    "\n",
    "# set the dataset as numpy array\n",
    "x=np.array( [v[0:2] for v in z] ).astype('float32')\n",
    "y=np.array( [v[2:][0] for v in z] ).astype('float32')"
   ]
  },
  {
   "cell_type": "markdown",
   "metadata": {},
   "source": [
    "#### We need to normalize the training data to be within the range of $[0,1]$"
   ]
  },
  {
   "cell_type": "code",
   "execution_count": 10,
   "metadata": {
    "collapsed": true
   },
   "outputs": [],
   "source": [
    "# normalize\n",
    "x = x / max_range1"
   ]
  },
  {
   "cell_type": "code",
   "execution_count": 11,
   "metadata": {
    "collapsed": true
   },
   "outputs": [],
   "source": [
    "# hot encoding\n",
    "yy=to_categorical(y, n_classes)"
   ]
  },
  {
   "cell_type": "markdown",
   "metadata": {},
   "source": [
    "#### We set 80$\\%$ for training data and 20$\\%$ for validation data "
   ]
  },
  {
   "cell_type": "code",
   "execution_count": 12,
   "metadata": {
    "collapsed": true
   },
   "outputs": [],
   "source": [
    "# split train and validation data\n",
    "n_train = int( 0.8 * num_data ) \n",
    "x_train = x[0:n_train,]\n",
    "x_test = x[n_train:,]\n",
    "y_train = yy[0:n_train,] \n",
    "y_test = yy[n_train:,]\n"
   ]
  },
  {
   "cell_type": "markdown",
   "metadata": {},
   "source": [
    "#### Set the hyperparameters:"
   ]
  },
  {
   "cell_type": "code",
   "execution_count": 13,
   "metadata": {
    "collapsed": true
   },
   "outputs": [],
   "source": [
    "# setup hyperparameter for dense layer\n",
    "n_input = 2 # x + y -- two input dataset\n",
    "n_hidden_1 = 200 # layer - 1\n",
    "n_hidden_2 = 150 # layer - 2\n",
    "n_hidden_3 = 100 # layer - 3\n",
    "n_hidden_4 = 50 # layer - 3"
   ]
  },
  {
   "cell_type": "markdown",
   "metadata": {},
   "source": [
    "#### The model"
   ]
  },
  {
   "cell_type": "code",
   "execution_count": 14,
   "metadata": {
    "collapsed": false
   },
   "outputs": [],
   "source": [
    "Inp = Input(shape=(2,))\n",
    "x = Dense( n_hidden_1, activation = 'relu', name = 'Dense_1')(Inp)\n",
    "x = Dense( n_hidden_2, activation = 'relu', name = 'Dense_2')(x)\n",
    "x = Dense( n_hidden_3, activation = 'relu', name = 'Dense_3')(x)\n",
    "x = Dense( n_hidden_4, activation = 'relu', name = 'Dense_4')(x)\n",
    "output = Dense( n_classes, activation = 'softmax', name = 'Dense_out')(x)"
   ]
  },
  {
   "cell_type": "code",
   "execution_count": 15,
   "metadata": {
    "collapsed": false
   },
   "outputs": [],
   "source": [
    "# create the model\n",
    "model = Model(Inp, output)"
   ]
  },
  {
   "cell_type": "code",
   "execution_count": 16,
   "metadata": {
    "collapsed": false
   },
   "outputs": [
    {
     "name": "stdout",
     "output_type": "stream",
     "text": [
      "_________________________________________________________________\n",
      "Layer (type)                 Output Shape              Param #   \n",
      "=================================================================\n",
      "input_1 (InputLayer)         (None, 2)                 0         \n",
      "_________________________________________________________________\n",
      "Dense_1 (Dense)              (None, 200)               600       \n",
      "_________________________________________________________________\n",
      "Dense_2 (Dense)              (None, 150)               30150     \n",
      "_________________________________________________________________\n",
      "Dense_3 (Dense)              (None, 100)               15100     \n",
      "_________________________________________________________________\n",
      "Dense_4 (Dense)              (None, 50)                5050      \n",
      "_________________________________________________________________\n",
      "Dense_out (Dense)            (None, 201)               10251     \n",
      "=================================================================\n",
      "Total params: 61,151\n",
      "Trainable params: 61,151\n",
      "Non-trainable params: 0\n",
      "_________________________________________________________________\n"
     ]
    }
   ],
   "source": [
    "model.summary()"
   ]
  },
  {
   "cell_type": "code",
   "execution_count": 17,
   "metadata": {
    "collapsed": true
   },
   "outputs": [],
   "source": [
    "train_epochs = 200\n",
    "batch_sizes = 40000"
   ]
  },
  {
   "cell_type": "markdown",
   "metadata": {},
   "source": [
    "We introduce a function to allow changing the learning rate at different stage of epochs"
   ]
  },
  {
   "cell_type": "code",
   "execution_count": 18,
   "metadata": {
    "collapsed": true
   },
   "outputs": [],
   "source": [
    "def step_decay(epoch):\n",
    "    if epoch<20:\n",
    "        return 0.002\n",
    "    if epoch<60:\n",
    "        return 0.001\n",
    "    return 0.0005\n",
    "\n",
    "lrate=LearningRateScheduler(step_decay)"
   ]
  },
  {
   "cell_type": "code",
   "execution_count": 19,
   "metadata": {
    "collapsed": true
   },
   "outputs": [],
   "source": [
    "adam = keras.optimizers.Adam()\n",
    "model.compile( loss = 'categorical_crossentropy', optimizer = adam, metrics = ['accuracy'] )"
   ]
  },
  {
   "cell_type": "markdown",
   "metadata": {},
   "source": [
    "#### Train the model"
   ]
  },
  {
   "cell_type": "code",
   "execution_count": 20,
   "metadata": {
    "collapsed": true
   },
   "outputs": [
    {
     "name": "stdout",
     "output_type": "stream",
     "text": [
      "Train on 400000 samples, validate on 100000 samples\n",
      "Epoch 1/200\n",
      "400000/400000 [==============================] - 6s - loss: 5.2737 - acc: 0.0079 - val_loss: 5.1966 - val_acc: 0.0095\n",
      "Epoch 2/200\n",
      "400000/400000 [==============================] - 6s - loss: 5.1543 - acc: 0.0090 - val_loss: 5.0723 - val_acc: 0.0119\n",
      "Epoch 3/200\n",
      "400000/400000 [==============================] - 6s - loss: 5.0466 - acc: 0.0107 - val_loss: 4.9635 - val_acc: 0.0094\n",
      "Epoch 4/200\n",
      "400000/400000 [==============================] - 5s - loss: 4.9291 - acc: 0.0107 - val_loss: 4.8175 - val_acc: 0.0141\n",
      "Epoch 5/200\n",
      "400000/400000 [==============================] - 5s - loss: 4.7122 - acc: 0.0142 - val_loss: 4.4949 - val_acc: 0.0188\n",
      "Epoch 6/200\n",
      "400000/400000 [==============================] - 5s - loss: 4.2896 - acc: 0.0331 - val_loss: 3.9522 - val_acc: 0.0658\n",
      "Epoch 7/200\n",
      "400000/400000 [==============================] - 5s - loss: 3.7538 - acc: 0.0752 - val_loss: 3.4846 - val_acc: 0.0850\n",
      "Epoch 8/200\n",
      "400000/400000 [==============================] - 5s - loss: 3.3761 - acc: 0.1097 - val_loss: 3.1799 - val_acc: 0.1505\n",
      "Epoch 9/200\n",
      "400000/400000 [==============================] - 6s - loss: 3.1104 - acc: 0.1495 - val_loss: 2.9827 - val_acc: 0.1190\n",
      "Epoch 10/200\n",
      "400000/400000 [==============================] - 6s - loss: 2.9352 - acc: 0.1528 - val_loss: 2.8265 - val_acc: 0.1808\n",
      "Epoch 11/200\n",
      "400000/400000 [==============================] - 5s - loss: 2.7872 - acc: 0.1894 - val_loss: 2.6750 - val_acc: 0.2050\n",
      "Epoch 12/200\n",
      "400000/400000 [==============================] - 6s - loss: 2.6647 - acc: 0.2173 - val_loss: 2.5769 - val_acc: 0.2389\n",
      "Epoch 13/200\n",
      "400000/400000 [==============================] - 6s - loss: 2.5700 - acc: 0.2334 - val_loss: 2.4890 - val_acc: 0.2485\n",
      "Epoch 14/200\n",
      "400000/400000 [==============================] - 6s - loss: 2.4917 - acc: 0.2477 - val_loss: 2.4161 - val_acc: 0.2579\n",
      "Epoch 15/200\n",
      "400000/400000 [==============================] - 5s - loss: 2.4354 - acc: 0.2691 - val_loss: 2.3606 - val_acc: 0.3020\n",
      "Epoch 16/200\n",
      "400000/400000 [==============================] - 5s - loss: 2.3689 - acc: 0.2840 - val_loss: 2.2898 - val_acc: 0.2780\n",
      "Epoch 17/200\n",
      "400000/400000 [==============================] - 5s - loss: 2.3209 - acc: 0.2731 - val_loss: 2.2474 - val_acc: 0.3454\n",
      "Epoch 18/200\n",
      "400000/400000 [==============================] - 6s - loss: 2.2655 - acc: 0.2981 - val_loss: 2.2013 - val_acc: 0.2970\n",
      "Epoch 19/200\n",
      "400000/400000 [==============================] - 7s - loss: 2.2212 - acc: 0.3067 - val_loss: 2.1755 - val_acc: 0.3243\n",
      "Epoch 20/200\n",
      "400000/400000 [==============================] - 5s - loss: 2.2230 - acc: 0.3078 - val_loss: 2.1489 - val_acc: 0.3454\n",
      "Epoch 21/200\n",
      "400000/400000 [==============================] - 6s - loss: 2.1348 - acc: 0.3893 - val_loss: 2.0725 - val_acc: 0.3968\n",
      "Epoch 22/200\n",
      "400000/400000 [==============================] - 5s - loss: 2.0853 - acc: 0.4220 - val_loss: 2.0347 - val_acc: 0.4985\n",
      "Epoch 23/200\n",
      "400000/400000 [==============================] - 5s - loss: 2.0550 - acc: 0.4584 - val_loss: 2.0115 - val_acc: 0.4832\n",
      "Epoch 24/200\n",
      "400000/400000 [==============================] - 5s - loss: 2.0315 - acc: 0.4867 - val_loss: 1.9899 - val_acc: 0.4754\n",
      "Epoch 25/200\n",
      "400000/400000 [==============================] - 6s - loss: 2.0091 - acc: 0.4736 - val_loss: 1.9666 - val_acc: 0.5050\n",
      "Epoch 26/200\n",
      "400000/400000 [==============================] - 5s - loss: 1.9877 - acc: 0.4828 - val_loss: 1.9462 - val_acc: 0.5393\n",
      "Epoch 27/200\n",
      "400000/400000 [==============================] - 6s - loss: 1.9668 - acc: 0.5016 - val_loss: 1.9281 - val_acc: 0.4683\n",
      "Epoch 28/200\n",
      "400000/400000 [==============================] - 6s - loss: 1.9476 - acc: 0.5066 - val_loss: 1.9055 - val_acc: 0.4833\n",
      "Epoch 29/200\n",
      "400000/400000 [==============================] - 6s - loss: 1.9264 - acc: 0.5016 - val_loss: 1.8868 - val_acc: 0.5350\n",
      "Epoch 30/200\n",
      "400000/400000 [==============================] - 7s - loss: 1.9097 - acc: 0.5084 - val_loss: 1.8673 - val_acc: 0.4816\n",
      "Epoch 31/200\n",
      "400000/400000 [==============================] - 7s - loss: 1.8913 - acc: 0.4844 - val_loss: 1.8483 - val_acc: 0.5129\n",
      "Epoch 32/200\n",
      "400000/400000 [==============================] - 6s - loss: 1.8734 - acc: 0.4895 - val_loss: 1.8364 - val_acc: 0.5070\n",
      "Epoch 33/200\n",
      "400000/400000 [==============================] - 6s - loss: 1.8548 - acc: 0.5145 - val_loss: 1.8159 - val_acc: 0.5010\n",
      "Epoch 34/200\n",
      "400000/400000 [==============================] - 6s - loss: 1.8413 - acc: 0.4924 - val_loss: 1.8075 - val_acc: 0.4806\n",
      "Epoch 35/200\n",
      "400000/400000 [==============================] - 6s - loss: 1.8240 - acc: 0.4965 - val_loss: 1.7962 - val_acc: 0.4830\n",
      "Epoch 36/200\n",
      "400000/400000 [==============================] - 6s - loss: 1.8066 - acc: 0.4987 - val_loss: 1.7725 - val_acc: 0.4929\n",
      "Epoch 37/200\n",
      "400000/400000 [==============================] - 6s - loss: 1.7906 - acc: 0.5065 - val_loss: 1.7530 - val_acc: 0.5184\n",
      "Epoch 38/200\n",
      "400000/400000 [==============================] - 7s - loss: 1.7783 - acc: 0.5208 - val_loss: 1.7325 - val_acc: 0.5360\n",
      "Epoch 39/200\n",
      "400000/400000 [==============================] - 6s - loss: 1.7641 - acc: 0.5069 - val_loss: 1.7199 - val_acc: 0.5375\n",
      "Epoch 40/200\n",
      "400000/400000 [==============================] - 6s - loss: 1.7436 - acc: 0.5306 - val_loss: 1.7028 - val_acc: 0.5344\n",
      "Epoch 41/200\n",
      "400000/400000 [==============================] - 7s - loss: 1.7348 - acc: 0.5210 - val_loss: 1.6937 - val_acc: 0.5311\n",
      "Epoch 42/200\n",
      "400000/400000 [==============================] - 6s - loss: 1.7206 - acc: 0.5334 - val_loss: 1.6805 - val_acc: 0.5607\n",
      "Epoch 43/200\n",
      "400000/400000 [==============================] - 6s - loss: 1.7101 - acc: 0.5336 - val_loss: 1.6611 - val_acc: 0.5709\n",
      "Epoch 44/200\n",
      "400000/400000 [==============================] - 6s - loss: 1.6958 - acc: 0.5375 - val_loss: 1.6670 - val_acc: 0.5702\n",
      "Epoch 45/200\n",
      "400000/400000 [==============================] - 5s - loss: 1.6804 - acc: 0.5467 - val_loss: 1.6599 - val_acc: 0.5246\n",
      "Epoch 46/200\n",
      "400000/400000 [==============================] - 5s - loss: 1.6728 - acc: 0.5401 - val_loss: 1.6308 - val_acc: 0.5401\n",
      "Epoch 47/200\n",
      "400000/400000 [==============================] - 7s - loss: 1.6545 - acc: 0.5509 - val_loss: 1.6102 - val_acc: 0.5708\n",
      "Epoch 48/200\n",
      "400000/400000 [==============================] - 6s - loss: 1.6433 - acc: 0.5476 - val_loss: 1.5938 - val_acc: 0.6030\n",
      "Epoch 49/200\n",
      "400000/400000 [==============================] - 6s - loss: 1.6317 - acc: 0.5481 - val_loss: 1.5932 - val_acc: 0.5851\n",
      "Epoch 50/200\n",
      "400000/400000 [==============================] - 6s - loss: 1.6359 - acc: 0.5554 - val_loss: 1.6005 - val_acc: 0.5501\n",
      "Epoch 51/200\n",
      "400000/400000 [==============================] - 6s - loss: 1.6368 - acc: 0.5365 - val_loss: 1.5968 - val_acc: 0.5720\n",
      "Epoch 52/200\n",
      "400000/400000 [==============================] - 6s - loss: 1.6207 - acc: 0.5461 - val_loss: 1.5752 - val_acc: 0.5460\n",
      "Epoch 53/200\n",
      "400000/400000 [==============================] - 9s - loss: 1.6033 - acc: 0.5470 - val_loss: 1.5746 - val_acc: 0.5581\n",
      "Epoch 54/200\n",
      "400000/400000 [==============================] - 6s - loss: 1.5888 - acc: 0.5603 - val_loss: 1.5550 - val_acc: 0.5884\n",
      "Epoch 55/200\n",
      "400000/400000 [==============================] - 6s - loss: 1.5738 - acc: 0.5874 - val_loss: 1.5429 - val_acc: 0.5598\n",
      "Epoch 56/200\n",
      "400000/400000 [==============================] - 6s - loss: 1.5619 - acc: 0.5786 - val_loss: 1.5138 - val_acc: 0.6293\n",
      "Epoch 57/200\n",
      "400000/400000 [==============================] - 6s - loss: 1.5502 - acc: 0.5851 - val_loss: 1.5084 - val_acc: 0.5726\n",
      "Epoch 58/200\n",
      "400000/400000 [==============================] - 6s - loss: 1.5442 - acc: 0.5693 - val_loss: 1.5018 - val_acc: 0.5939\n",
      "Epoch 59/200\n",
      "400000/400000 [==============================] - 6s - loss: 1.5273 - acc: 0.5787 - val_loss: 1.4896 - val_acc: 0.5962\n",
      "Epoch 60/200\n",
      "400000/400000 [==============================] - 6s - loss: 1.5177 - acc: 0.6037 - val_loss: 1.4739 - val_acc: 0.6168\n",
      "Epoch 61/200\n",
      "400000/400000 [==============================] - 6s - loss: 1.4904 - acc: 0.6523 - val_loss: 1.4568 - val_acc: 0.6435\n",
      "Epoch 62/200\n",
      "400000/400000 [==============================] - 6s - loss: 1.4803 - acc: 0.6656 - val_loss: 1.4456 - val_acc: 0.6547\n",
      "Epoch 63/200\n",
      "400000/400000 [==============================] - 6s - loss: 1.4738 - acc: 0.6732 - val_loss: 1.4424 - val_acc: 0.6803\n",
      "Epoch 64/200\n",
      "400000/400000 [==============================] - 6s - loss: 1.4688 - acc: 0.6755 - val_loss: 1.4352 - val_acc: 0.7252\n",
      "Epoch 65/200\n",
      "400000/400000 [==============================] - 6s - loss: 1.4635 - acc: 0.6864 - val_loss: 1.4301 - val_acc: 0.7032\n",
      "Epoch 66/200\n",
      "400000/400000 [==============================] - 8s - loss: 1.4585 - acc: 0.6784 - val_loss: 1.4296 - val_acc: 0.6838\n",
      "Epoch 67/200\n",
      "400000/400000 [==============================] - 6s - loss: 1.4539 - acc: 0.6808 - val_loss: 1.4202 - val_acc: 0.6878\n",
      "Epoch 68/200\n",
      "400000/400000 [==============================] - 6s - loss: 1.4482 - acc: 0.6933 - val_loss: 1.4158 - val_acc: 0.7049\n",
      "Epoch 69/200\n",
      "400000/400000 [==============================] - 7s - loss: 1.4434 - acc: 0.6823 - val_loss: 1.4103 - val_acc: 0.7064\n",
      "Epoch 70/200\n",
      "400000/400000 [==============================] - 6s - loss: 1.4382 - acc: 0.6842 - val_loss: 1.4041 - val_acc: 0.6962\n",
      "Epoch 71/200\n",
      "400000/400000 [==============================] - 7s - loss: 1.4327 - acc: 0.6904 - val_loss: 1.4005 - val_acc: 0.7126\n",
      "Epoch 72/200\n",
      "400000/400000 [==============================] - 7s - loss: 1.4292 - acc: 0.6818 - val_loss: 1.3977 - val_acc: 0.6724\n",
      "Epoch 73/200\n",
      "400000/400000 [==============================] - 7s - loss: 1.4258 - acc: 0.6638 - val_loss: 1.3881 - val_acc: 0.6910\n",
      "Epoch 74/200\n",
      "400000/400000 [==============================] - 10s - loss: 1.4187 - acc: 0.6744 - val_loss: 1.3875 - val_acc: 0.6762\n",
      "Epoch 75/200\n",
      "400000/400000 [==============================] - 6s - loss: 1.4142 - acc: 0.6699 - val_loss: 1.3801 - val_acc: 0.6951\n",
      "Epoch 76/200\n",
      "400000/400000 [==============================] - 6s - loss: 1.4108 - acc: 0.6897 - val_loss: 1.3771 - val_acc: 0.7182\n",
      "Epoch 77/200\n",
      "400000/400000 [==============================] - 6s - loss: 1.4056 - acc: 0.6842 - val_loss: 1.3724 - val_acc: 0.6688\n",
      "Epoch 78/200\n",
      "400000/400000 [==============================] - 6s - loss: 1.3993 - acc: 0.6909 - val_loss: 1.3651 - val_acc: 0.6893\n",
      "Epoch 79/200\n",
      "400000/400000 [==============================] - 6s - loss: 1.3950 - acc: 0.6923 - val_loss: 1.3608 - val_acc: 0.6936\n",
      "Epoch 80/200\n",
      "400000/400000 [==============================] - 5s - loss: 1.3902 - acc: 0.6904 - val_loss: 1.3597 - val_acc: 0.6626\n",
      "Epoch 81/200\n",
      "400000/400000 [==============================] - 6s - loss: 1.3869 - acc: 0.6836 - val_loss: 1.3524 - val_acc: 0.6956\n",
      "Epoch 82/200\n",
      "400000/400000 [==============================] - 5s - loss: 1.3818 - acc: 0.6736 - val_loss: 1.3490 - val_acc: 0.7133\n",
      "Epoch 83/200\n",
      "400000/400000 [==============================] - 5s - loss: 1.3769 - acc: 0.6908 - val_loss: 1.3418 - val_acc: 0.7232\n",
      "Epoch 84/200\n",
      "400000/400000 [==============================] - 6s - loss: 1.3714 - acc: 0.6844 - val_loss: 1.3394 - val_acc: 0.7006\n",
      "Epoch 85/200\n",
      "400000/400000 [==============================] - 6s - loss: 1.3653 - acc: 0.7082 - val_loss: 1.3338 - val_acc: 0.7061\n",
      "Epoch 86/200\n",
      "400000/400000 [==============================] - 6s - loss: 1.3625 - acc: 0.7024 - val_loss: 1.3289 - val_acc: 0.6913\n",
      "Epoch 87/200\n",
      "400000/400000 [==============================] - 5s - loss: 1.3584 - acc: 0.6931 - val_loss: 1.3254 - val_acc: 0.6949\n",
      "Epoch 88/200\n",
      "400000/400000 [==============================] - 5s - loss: 1.3536 - acc: 0.6826 - val_loss: 1.3201 - val_acc: 0.6752\n",
      "Epoch 89/200\n",
      "400000/400000 [==============================] - 5s - loss: 1.3488 - acc: 0.6780 - val_loss: 1.3162 - val_acc: 0.7280\n",
      "Epoch 90/200\n",
      "400000/400000 [==============================] - 6s - loss: 1.3457 - acc: 0.6767 - val_loss: 1.3112 - val_acc: 0.6809\n",
      "Epoch 91/200\n",
      "400000/400000 [==============================] - 5s - loss: 1.3407 - acc: 0.6606 - val_loss: 1.3073 - val_acc: 0.6983\n",
      "Epoch 92/200\n",
      "400000/400000 [==============================] - 6s - loss: 1.3379 - acc: 0.6732 - val_loss: 1.3058 - val_acc: 0.7079\n",
      "Epoch 93/200\n",
      "400000/400000 [==============================] - 6s - loss: 1.3315 - acc: 0.6781 - val_loss: 1.2965 - val_acc: 0.7108\n",
      "Epoch 94/200\n",
      "400000/400000 [==============================] - 5s - loss: 1.3277 - acc: 0.6904 - val_loss: 1.2921 - val_acc: 0.6813\n",
      "Epoch 95/200\n",
      "400000/400000 [==============================] - 6s - loss: 1.3231 - acc: 0.6843 - val_loss: 1.2886 - val_acc: 0.7008\n",
      "Epoch 96/200\n",
      "400000/400000 [==============================] - 7s - loss: 1.3173 - acc: 0.6882 - val_loss: 1.2842 - val_acc: 0.7286\n",
      "Epoch 97/200\n",
      "400000/400000 [==============================] - 6s - loss: 1.3119 - acc: 0.7007 - val_loss: 1.2794 - val_acc: 0.7036\n",
      "Epoch 98/200\n",
      "400000/400000 [==============================] - 5s - loss: 1.3065 - acc: 0.7009 - val_loss: 1.2772 - val_acc: 0.7624\n",
      "Epoch 99/200\n",
      "400000/400000 [==============================] - 5s - loss: 1.3048 - acc: 0.7083 - val_loss: 1.2750 - val_acc: 0.6800\n",
      "Epoch 100/200\n",
      "400000/400000 [==============================] - 5s - loss: 1.3007 - acc: 0.6780 - val_loss: 1.2695 - val_acc: 0.6636\n",
      "Epoch 101/200\n",
      "400000/400000 [==============================] - 5s - loss: 1.2967 - acc: 0.6748 - val_loss: 1.2661 - val_acc: 0.7056\n",
      "Epoch 102/200\n",
      "400000/400000 [==============================] - 6s - loss: 1.2937 - acc: 0.6814 - val_loss: 1.2623 - val_acc: 0.7076\n",
      "Epoch 103/200\n",
      "400000/400000 [==============================] - 5s - loss: 1.2883 - acc: 0.6948 - val_loss: 1.2528 - val_acc: 0.7227\n",
      "Epoch 104/200\n",
      "400000/400000 [==============================] - 6s - loss: 1.2843 - acc: 0.6946 - val_loss: 1.2500 - val_acc: 0.6729\n",
      "Epoch 105/200\n",
      "400000/400000 [==============================] - 5s - loss: 1.2793 - acc: 0.6847 - val_loss: 1.2481 - val_acc: 0.6892\n",
      "Epoch 106/200\n",
      "400000/400000 [==============================] - 5s - loss: 1.2740 - acc: 0.6827 - val_loss: 1.2449 - val_acc: 0.7394\n",
      "Epoch 107/200\n",
      "400000/400000 [==============================] - 5s - loss: 1.2701 - acc: 0.7047 - val_loss: 1.2344 - val_acc: 0.7166\n",
      "Epoch 108/200\n",
      "400000/400000 [==============================] - 5s - loss: 1.2649 - acc: 0.7064 - val_loss: 1.2333 - val_acc: 0.7339\n",
      "Epoch 109/200\n",
      "400000/400000 [==============================] - 6s - loss: 1.2607 - acc: 0.7060 - val_loss: 1.2287 - val_acc: 0.7048\n",
      "Epoch 110/200\n",
      "400000/400000 [==============================] - 6s - loss: 1.2587 - acc: 0.6930 - val_loss: 1.2259 - val_acc: 0.6883\n",
      "Epoch 111/200\n",
      "400000/400000 [==============================] - 5s - loss: 1.2543 - acc: 0.6921 - val_loss: 1.2225 - val_acc: 0.7183\n",
      "Epoch 112/200\n",
      "400000/400000 [==============================] - 6s - loss: 1.2493 - acc: 0.6997 - val_loss: 1.2153 - val_acc: 0.7556\n",
      "Epoch 113/200\n",
      "400000/400000 [==============================] - 6s - loss: 1.2455 - acc: 0.7066 - val_loss: 1.2128 - val_acc: 0.7138\n",
      "Epoch 114/200\n",
      "400000/400000 [==============================] - 6s - loss: 1.2419 - acc: 0.7067 - val_loss: 1.2076 - val_acc: 0.7193\n",
      "Epoch 115/200\n",
      "400000/400000 [==============================] - 6s - loss: 1.2368 - acc: 0.6955 - val_loss: 1.2029 - val_acc: 0.7098\n",
      "Epoch 116/200\n",
      "400000/400000 [==============================] - 6s - loss: 1.2324 - acc: 0.7096 - val_loss: 1.1991 - val_acc: 0.7194\n",
      "Epoch 117/200\n",
      "400000/400000 [==============================] - 6s - loss: 1.2270 - acc: 0.7083 - val_loss: 1.1979 - val_acc: 0.7445\n",
      "Epoch 118/200\n",
      "400000/400000 [==============================] - 5s - loss: 1.2242 - acc: 0.7322 - val_loss: 1.1966 - val_acc: 0.6973\n",
      "Epoch 119/200\n",
      "400000/400000 [==============================] - 6s - loss: 1.2225 - acc: 0.7206 - val_loss: 1.1893 - val_acc: 0.7150\n",
      "Epoch 120/200\n",
      "400000/400000 [==============================] - 5s - loss: 1.2164 - acc: 0.7219 - val_loss: 1.1842 - val_acc: 0.7494\n",
      "Epoch 121/200\n",
      "400000/400000 [==============================] - 5s - loss: 1.2130 - acc: 0.7241 - val_loss: 1.1802 - val_acc: 0.7500\n",
      "Epoch 122/200\n",
      "400000/400000 [==============================] - 5s - loss: 1.2094 - acc: 0.7280 - val_loss: 1.1742 - val_acc: 0.7064\n",
      "Epoch 123/200\n",
      "400000/400000 [==============================] - 5s - loss: 1.2064 - acc: 0.7126 - val_loss: 1.1782 - val_acc: 0.6867\n",
      "Epoch 124/200\n",
      "400000/400000 [==============================] - 5s - loss: 1.2067 - acc: 0.7008 - val_loss: 1.1705 - val_acc: 0.7111\n",
      "Epoch 125/200\n",
      "400000/400000 [==============================] - 5s - loss: 1.2001 - acc: 0.7136 - val_loss: 1.1720 - val_acc: 0.7357\n",
      "Epoch 126/200\n",
      "400000/400000 [==============================] - 5s - loss: 1.1984 - acc: 0.7073 - val_loss: 1.1639 - val_acc: 0.7141\n",
      "Epoch 127/200\n",
      "400000/400000 [==============================] - 5s - loss: 1.1940 - acc: 0.6939 - val_loss: 1.1626 - val_acc: 0.6920\n",
      "Epoch 128/200\n",
      "400000/400000 [==============================] - 5s - loss: 1.1890 - acc: 0.6863 - val_loss: 1.1589 - val_acc: 0.6907\n",
      "Epoch 129/200\n",
      "400000/400000 [==============================] - 5s - loss: 1.1866 - acc: 0.7192 - val_loss: 1.1552 - val_acc: 0.7256\n",
      "Epoch 130/200\n",
      "400000/400000 [==============================] - 5s - loss: 1.1825 - acc: 0.7179 - val_loss: 1.1488 - val_acc: 0.7243\n",
      "Epoch 131/200\n",
      "400000/400000 [==============================] - 5s - loss: 1.1753 - acc: 0.7226 - val_loss: 1.1467 - val_acc: 0.7276\n",
      "Epoch 132/200\n",
      "400000/400000 [==============================] - 5s - loss: 1.1732 - acc: 0.7245 - val_loss: 1.1367 - val_acc: 0.7382\n",
      "Epoch 133/200\n",
      "400000/400000 [==============================] - 6s - loss: 1.1720 - acc: 0.7124 - val_loss: 1.1379 - val_acc: 0.7494\n",
      "Epoch 134/200\n",
      "400000/400000 [==============================] - 7s - loss: 1.1645 - acc: 0.7396 - val_loss: 1.1329 - val_acc: 0.7204\n",
      "Epoch 135/200\n",
      "400000/400000 [==============================] - 6s - loss: 1.1653 - acc: 0.7133 - val_loss: 1.1394 - val_acc: 0.7398\n",
      "Epoch 136/200\n",
      "400000/400000 [==============================] - 6s - loss: 1.1638 - acc: 0.7188 - val_loss: 1.1277 - val_acc: 0.7487\n",
      "Epoch 137/200\n",
      "400000/400000 [==============================] - 5s - loss: 1.1613 - acc: 0.7044 - val_loss: 1.1290 - val_acc: 0.7294\n",
      "Epoch 138/200\n",
      "400000/400000 [==============================] - 5s - loss: 1.1556 - acc: 0.7312 - val_loss: 1.1207 - val_acc: 0.7155\n",
      "Epoch 139/200\n",
      "400000/400000 [==============================] - 6s - loss: 1.1517 - acc: 0.7195 - val_loss: 1.1200 - val_acc: 0.7139\n",
      "Epoch 140/200\n",
      "400000/400000 [==============================] - 6s - loss: 1.1483 - acc: 0.7163 - val_loss: 1.1176 - val_acc: 0.7397\n",
      "Epoch 141/200\n",
      "400000/400000 [==============================] - 6s - loss: 1.1461 - acc: 0.7212 - val_loss: 1.1114 - val_acc: 0.7257\n",
      "Epoch 142/200\n",
      "400000/400000 [==============================] - 6s - loss: 1.1420 - acc: 0.7242 - val_loss: 1.1076 - val_acc: 0.7264\n",
      "Epoch 143/200\n",
      "400000/400000 [==============================] - 6s - loss: 1.1376 - acc: 0.7310 - val_loss: 1.1069 - val_acc: 0.7254\n",
      "Epoch 144/200\n",
      "400000/400000 [==============================] - 6s - loss: 1.1334 - acc: 0.7408 - val_loss: 1.1018 - val_acc: 0.7887\n",
      "Epoch 145/200\n",
      "400000/400000 [==============================] - 6s - loss: 1.1325 - acc: 0.7206 - val_loss: 1.0996 - val_acc: 0.6840\n",
      "Epoch 146/200\n",
      "400000/400000 [==============================] - 6s - loss: 1.1298 - acc: 0.7047 - val_loss: 1.1056 - val_acc: 0.6861\n",
      "Epoch 147/200\n",
      "400000/400000 [==============================] - 5s - loss: 1.1296 - acc: 0.7008 - val_loss: 1.0943 - val_acc: 0.7209\n",
      "Epoch 148/200\n",
      "400000/400000 [==============================] - 6s - loss: 1.1232 - acc: 0.7265 - val_loss: 1.0877 - val_acc: 0.7418\n",
      "Epoch 149/200\n",
      "400000/400000 [==============================] - 6s - loss: 1.1220 - acc: 0.7187 - val_loss: 1.0893 - val_acc: 0.7531\n",
      "Epoch 150/200\n",
      "400000/400000 [==============================] - 6s - loss: 1.1185 - acc: 0.7201 - val_loss: 1.0835 - val_acc: 0.7093\n",
      "Epoch 151/200\n",
      "400000/400000 [==============================] - 5s - loss: 1.1119 - acc: 0.7200 - val_loss: 1.0811 - val_acc: 0.7186\n",
      "Epoch 152/200\n",
      "400000/400000 [==============================] - 6s - loss: 1.1113 - acc: 0.7171 - val_loss: 1.0798 - val_acc: 0.7248\n",
      "Epoch 153/200\n",
      "400000/400000 [==============================] - 6s - loss: 1.1068 - acc: 0.7175 - val_loss: 1.0765 - val_acc: 0.7406\n",
      "Epoch 154/200\n",
      "400000/400000 [==============================] - 6s - loss: 1.1015 - acc: 0.7356 - val_loss: 1.0698 - val_acc: 0.7836\n",
      "Epoch 155/200\n",
      "400000/400000 [==============================] - 5s - loss: 1.0989 - acc: 0.7339 - val_loss: 1.0647 - val_acc: 0.7509\n",
      "Epoch 156/200\n",
      "400000/400000 [==============================] - 5s - loss: 1.0956 - acc: 0.7282 - val_loss: 1.0631 - val_acc: 0.7306\n",
      "Epoch 157/200\n",
      "400000/400000 [==============================] - 6s - loss: 1.0928 - acc: 0.7337 - val_loss: 1.0625 - val_acc: 0.7422\n",
      "Epoch 158/200\n",
      "400000/400000 [==============================] - 6s - loss: 1.0907 - acc: 0.7273 - val_loss: 1.0619 - val_acc: 0.7109\n",
      "Epoch 159/200\n",
      "400000/400000 [==============================] - 6s - loss: 1.0895 - acc: 0.7253 - val_loss: 1.0547 - val_acc: 0.7259\n",
      "Epoch 160/200\n",
      "400000/400000 [==============================] - 5s - loss: 1.0878 - acc: 0.7330 - val_loss: 1.0553 - val_acc: 0.7401\n",
      "Epoch 161/200\n",
      "400000/400000 [==============================] - 6s - loss: 1.0851 - acc: 0.7278 - val_loss: 1.0509 - val_acc: 0.7163\n",
      "Epoch 162/200\n",
      "400000/400000 [==============================] - 6s - loss: 1.0790 - acc: 0.7352 - val_loss: 1.0516 - val_acc: 0.7311\n",
      "Epoch 163/200\n",
      "400000/400000 [==============================] - 6s - loss: 1.0802 - acc: 0.7244 - val_loss: 1.0536 - val_acc: 0.7303\n",
      "Epoch 164/200\n",
      "400000/400000 [==============================] - 6s - loss: 1.0815 - acc: 0.7122 - val_loss: 1.0468 - val_acc: 0.7251\n",
      "Epoch 165/200\n",
      "400000/400000 [==============================] - 6s - loss: 1.0743 - acc: 0.7246 - val_loss: 1.0412 - val_acc: 0.7512\n",
      "Epoch 166/200\n",
      "400000/400000 [==============================] - 6s - loss: 1.0703 - acc: 0.7270 - val_loss: 1.0396 - val_acc: 0.6930\n",
      "Epoch 167/200\n",
      "400000/400000 [==============================] - 7s - loss: 1.0673 - acc: 0.7264 - val_loss: 1.0380 - val_acc: 0.7424\n",
      "Epoch 168/200\n",
      "400000/400000 [==============================] - 6s - loss: 1.0668 - acc: 0.7283 - val_loss: 1.0354 - val_acc: 0.7552\n",
      "Epoch 169/200\n",
      "400000/400000 [==============================] - 7s - loss: 1.0633 - acc: 0.7242 - val_loss: 1.0342 - val_acc: 0.7191\n",
      "Epoch 170/200\n",
      "400000/400000 [==============================] - 5s - loss: 1.0589 - acc: 0.7343 - val_loss: 1.0349 - val_acc: 0.7136\n",
      "Epoch 171/200\n",
      "400000/400000 [==============================] - 6s - loss: 1.0568 - acc: 0.7301 - val_loss: 1.0268 - val_acc: 0.7142\n",
      "Epoch 172/200\n",
      "400000/400000 [==============================] - 5s - loss: 1.0541 - acc: 0.7349 - val_loss: 1.0222 - val_acc: 0.7525\n",
      "Epoch 173/200\n",
      "400000/400000 [==============================] - 6s - loss: 1.0497 - acc: 0.7404 - val_loss: 1.0190 - val_acc: 0.7284\n",
      "Epoch 174/200\n",
      "400000/400000 [==============================] - 5s - loss: 1.0478 - acc: 0.7436 - val_loss: 1.0162 - val_acc: 0.7439\n",
      "Epoch 175/200\n",
      "400000/400000 [==============================] - 5s - loss: 1.0448 - acc: 0.7448 - val_loss: 1.0101 - val_acc: 0.7455\n",
      "Epoch 176/200\n",
      "400000/400000 [==============================] - 5s - loss: 1.0440 - acc: 0.7379 - val_loss: 1.0176 - val_acc: 0.7464\n",
      "Epoch 177/200\n",
      "400000/400000 [==============================] - 5s - loss: 1.0421 - acc: 0.7300 - val_loss: 1.0082 - val_acc: 0.7351\n",
      "Epoch 178/200\n",
      "400000/400000 [==============================] - 5s - loss: 1.0375 - acc: 0.7424 - val_loss: 1.0083 - val_acc: 0.7423\n",
      "Epoch 179/200\n",
      "400000/400000 [==============================] - 5s - loss: 1.0367 - acc: 0.7372 - val_loss: 0.9972 - val_acc: 0.7666\n",
      "Epoch 180/200\n",
      "400000/400000 [==============================] - 5s - loss: 1.0317 - acc: 0.7486 - val_loss: 1.0060 - val_acc: 0.7358\n",
      "Epoch 181/200\n",
      "400000/400000 [==============================] - 5s - loss: 1.0289 - acc: 0.7546 - val_loss: 1.0002 - val_acc: 0.7692\n",
      "Epoch 182/200\n",
      "400000/400000 [==============================] - 5s - loss: 1.0295 - acc: 0.7429 - val_loss: 0.9982 - val_acc: 0.7110\n",
      "Epoch 183/200\n",
      "400000/400000 [==============================] - 5s - loss: 1.0276 - acc: 0.7420 - val_loss: 0.9959 - val_acc: 0.7799\n",
      "Epoch 184/200\n",
      "400000/400000 [==============================] - 5s - loss: 1.0214 - acc: 0.7597 - val_loss: 0.9935 - val_acc: 0.7198\n",
      "Epoch 185/200\n",
      "400000/400000 [==============================] - 5s - loss: 1.0201 - acc: 0.7477 - val_loss: 0.9886 - val_acc: 0.7298\n",
      "Epoch 186/200\n",
      "400000/400000 [==============================] - 6s - loss: 1.0187 - acc: 0.7282 - val_loss: 0.9872 - val_acc: 0.7379\n",
      "Epoch 187/200\n",
      "400000/400000 [==============================] - 6s - loss: 1.0144 - acc: 0.7498 - val_loss: 0.9806 - val_acc: 0.7893\n",
      "Epoch 188/200\n",
      "400000/400000 [==============================] - 6s - loss: 1.0130 - acc: 0.7511 - val_loss: 0.9786 - val_acc: 0.7955\n",
      "Epoch 189/200\n",
      "400000/400000 [==============================] - 6s - loss: 1.0111 - acc: 0.7512 - val_loss: 0.9772 - val_acc: 0.7763\n",
      "Epoch 190/200\n",
      "400000/400000 [==============================] - 6s - loss: 1.0064 - acc: 0.7591 - val_loss: 0.9781 - val_acc: 0.7651\n",
      "Epoch 191/200\n",
      "400000/400000 [==============================] - 5s - loss: 1.0033 - acc: 0.7564 - val_loss: 0.9683 - val_acc: 0.7748\n",
      "Epoch 192/200\n",
      "400000/400000 [==============================] - 5s - loss: 0.9987 - acc: 0.7582 - val_loss: 0.9672 - val_acc: 0.7835\n",
      "Epoch 193/200\n",
      "400000/400000 [==============================] - 5s - loss: 0.9968 - acc: 0.7587 - val_loss: 0.9712 - val_acc: 0.7270\n",
      "Epoch 194/200\n",
      "400000/400000 [==============================] - 5s - loss: 0.9984 - acc: 0.7616 - val_loss: 0.9687 - val_acc: 0.7490\n",
      "Epoch 195/200\n",
      "400000/400000 [==============================] - 5s - loss: 0.9941 - acc: 0.7519 - val_loss: 0.9595 - val_acc: 0.7551\n",
      "Epoch 196/200\n",
      "400000/400000 [==============================] - 6s - loss: 0.9911 - acc: 0.7510 - val_loss: 0.9651 - val_acc: 0.7434\n",
      "Epoch 197/200\n",
      "400000/400000 [==============================] - 5s - loss: 0.9917 - acc: 0.7593 - val_loss: 0.9598 - val_acc: 0.7524\n",
      "Epoch 198/200\n",
      "400000/400000 [==============================] - 5s - loss: 0.9890 - acc: 0.7560 - val_loss: 0.9597 - val_acc: 0.7709\n",
      "Epoch 199/200\n",
      "400000/400000 [==============================] - 5s - loss: 0.9887 - acc: 0.7428 - val_loss: 0.9612 - val_acc: 0.7358\n",
      "Epoch 200/200\n",
      "400000/400000 [==============================] - 5s - loss: 0.9861 - acc: 0.7558 - val_loss: 0.9564 - val_acc: 0.7760\n"
     ]
    }
   ],
   "source": [
    "history = model.fit(x_train, y_train, \n",
    "                    batch_size = batch_sizes, \n",
    "                    epochs = train_epochs, verbose = 1, \n",
    "                    validation_data=(x_test, y_test), \n",
    "                    callbacks=[lrate])"
   ]
  },
  {
   "cell_type": "code",
   "execution_count": 24,
   "metadata": {
    "collapsed": true
   },
   "outputs": [],
   "source": [
    "%matplotlib inline\n",
    "import matplotlib.pyplot as plt "
   ]
  },
  {
   "cell_type": "code",
   "execution_count": 25,
   "metadata": {
    "collapsed": true
   },
   "outputs": [],
   "source": [
    "def plot_train(hist):\n",
    "    h = hist.history\n",
    "    if 'acc' in h:\n",
    "        meas='acc'\n",
    "        loc='lower right'\n",
    "    else:\n",
    "        meas='loss'\n",
    "        loc='upper right'\n",
    "    plt.plot(hist.history[meas])\n",
    "    plt.plot(hist.history['val_'+meas])\n",
    "    plt.title('model '+meas)\n",
    "    plt.ylabel(meas)\n",
    "    plt.xlabel('epoch')\n",
    "    plt.legend(['train', 'validation'], loc=loc)"
   ]
  },
  {
   "cell_type": "code",
   "execution_count": 26,
   "metadata": {
    "collapsed": false
   },
   "outputs": [
    {
     "data": {
      "image/png": "[encoded data removed]",
      "text/plain": [
       "<matplotlib.figure.Figure at 0x1952bfb7eb8>"
      ]
     },
     "metadata": {},
     "output_type": "display_data"
    }
   ],
   "source": [
    "plot_train(history)"
   ]
  },
  {
   "cell_type": "markdown",
   "metadata": {},
   "source": [
    "#### Evaluate the model"
   ]
  },
  {
   "cell_type": "code",
   "execution_count": 27,
   "metadata": {
    "collapsed": false
   },
   "outputs": [
    {
     "name": "stdout",
     "output_type": "stream",
     "text": [
      "Test loss: 0.956349571619\n",
      "Test accuracy: 0.77603\n"
     ]
    }
   ],
   "source": [
    "score = model.evaluate(x_test, y_test, verbose=0)\n",
    "print('Test loss:', score[0])\n",
    "print('Test accuracy:', score[1])"
   ]
  },
  {
   "cell_type": "markdown",
   "metadata": {},
   "source": [
    "#### Save the model"
   ]
  },
  {
   "cell_type": "code",
   "execution_count": 28,
   "metadata": {
    "collapsed": true
   },
   "outputs": [],
   "source": [
    "model.save('model.h5') "
   ]
  },
  {
   "cell_type": "markdown",
   "metadata": {},
   "source": [
    "#### Do prediction test on random data"
   ]
  },
  {
   "cell_type": "code",
   "execution_count": 30,
   "metadata": {
    "collapsed": false
   },
   "outputs": [
    {
     "name": "stdout",
     "output_type": "stream",
     "text": [
      "% prediction accuracy -  78.0\n"
     ]
    }
   ],
   "source": [
    "rr = []\n",
    "numtest = 1000\n",
    "for i in range(0,numtest):\n",
    "    v3 = np.random.randint(0, max_range1)\n",
    "    v4 = np.random.randint(0, max_range2)\n",
    "    v6 = np.array([[v3,v4]]).astype('float32') / max_range1    \n",
    "    v5=np.argmax( model.predict( v6 ) )\n",
    "    r = v5==(v3+v4)\n",
    "    rr.append(r)\n",
    "\n",
    "print(\"% prediction accuracy 1 - \", rr.count(True) / numtest * 100)"
   ]
  },
  {
   "cell_type": "code",
   "execution_count": 55,
   "metadata": {
    "collapsed": false
   },
   "outputs": [
    {
     "name": "stdout",
     "output_type": "stream",
     "text": [
      "% prediction accuracy 2 - 82.34\n"
     ]
    }
   ],
   "source": [
    "rr = []\n",
    "for i in range(0,101):\n",
    "    for j in test_list:\n",
    "        v3 = np.random.randint(0, max_range1)\n",
    "        v4 = j\n",
    "        v6 = np.array([[v3,v4]]).astype('float32') / max_range1    \n",
    "        v5=np.argmax( model.predict( v6 ) )\n",
    "        r = v5==(v3+v4)\n",
    "        rr.append(r)\n",
    "        \n",
    "        # swap v3 and v4 with test list\n",
    "        v3 = j\n",
    "        v4 = np.random.randint(0, max_range1)\n",
    "        v6 = np.array([[v3,v4]]).astype('float32') / max_range1    \n",
    "        v5=np.argmax( model.predict( v6 ) )\n",
    "        r = v5==(v3+v4)\n",
    "        rr.append(r)\n",
    "\n",
    "print(\"% prediction accuracy 2 - {0:2.2f}\".format(rr.count(True) / len(rr) * 100))"
   ]
  },
  {
   "cell_type": "markdown",
   "metadata": {},
   "source": [
    "To improve the accuracy in this case, I have tried to increase the number of training epochs, and can get higher prediction accuracy"
   ]
  },
  {
   "cell_type": "code",
   "execution_count": null,
   "metadata": {
    "collapsed": true
   },
   "outputs": [],
   "source": []
  }
 ],
 "metadata": {
  "anaconda-cloud": {},
  "kernelspec": {
   "display_name": "Python [conda root]",
   "language": "python",
   "name": "conda-root-py"
  },
  "language_info": {
   "codemirror_mode": {
    "name": "ipython",
    "version": 3
   },
   "file_extension": ".py",
   "mimetype": "text/x-python",
   "name": "python",
   "nbconvert_exporter": "python",
   "pygments_lexer": "ipython3",
   "version": "3.5.2"
  }
 },
 "nbformat": 4,
 "nbformat_minor": 1
}
